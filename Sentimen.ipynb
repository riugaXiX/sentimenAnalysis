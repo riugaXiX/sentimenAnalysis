{
 "cells": [
  {
   "cell_type": "code",
   "execution_count": 1,
   "metadata": {},
   "outputs": [],
   "source": [
    "import pandas as pd\n",
    "import numpy as np \n",
    "import matplotlib.pyplot as mpt\n",
    "\n",
    "mpt.style.use('_mpl-gallery')"
   ]
  },
  {
   "cell_type": "code",
   "execution_count": 35,
   "metadata": {},
   "outputs": [
    {
     "data": {
      "text/html": [
       "<div>\n",
       "<style scoped>\n",
       "    .dataframe tbody tr th:only-of-type {\n",
       "        vertical-align: middle;\n",
       "    }\n",
       "\n",
       "    .dataframe tbody tr th {\n",
       "        vertical-align: top;\n",
       "    }\n",
       "\n",
       "    .dataframe thead th {\n",
       "        text-align: right;\n",
       "    }\n",
       "</style>\n",
       "<table border=\"1\" class=\"dataframe\">\n",
       "  <thead>\n",
       "    <tr style=\"text-align: right;\">\n",
       "      <th></th>\n",
       "      <th>Konten</th>\n",
       "      <th>Value</th>\n",
       "    </tr>\n",
       "  </thead>\n",
       "  <tbody>\n",
       "    <tr>\n",
       "      <th>0</th>\n",
       "      <td>pelaksana tugas plt wali kota cimahi ngatiyana...</td>\n",
       "      <td>POSITIF</td>\n",
       "    </tr>\n",
       "    <tr>\n",
       "      <th>1</th>\n",
       "      <td>seri hp gaming redmi c pantas jadi opsi redmi ...</td>\n",
       "      <td>NETRAL</td>\n",
       "    </tr>\n",
       "    <tr>\n",
       "      <th>2</th>\n",
       "      <td>puluhan rumah di perumahan griya zavira desa m...</td>\n",
       "      <td>NEGATIF</td>\n",
       "    </tr>\n",
       "    <tr>\n",
       "      <th>3</th>\n",
       "      <td>hujan diprediksi akan turun di sejumlah kota b...</td>\n",
       "      <td>NETRAL</td>\n",
       "    </tr>\n",
       "    <tr>\n",
       "      <th>4</th>\n",
       "      <td>pelaku pembunuhan remaja berinisial af yang di...</td>\n",
       "      <td>NEGATIF</td>\n",
       "    </tr>\n",
       "  </tbody>\n",
       "</table>\n",
       "</div>"
      ],
      "text/plain": [
       "                                              Konten    Value\n",
       "0  pelaksana tugas plt wali kota cimahi ngatiyana...  POSITIF\n",
       "1  seri hp gaming redmi c pantas jadi opsi redmi ...   NETRAL\n",
       "2  puluhan rumah di perumahan griya zavira desa m...  NEGATIF\n",
       "3  hujan diprediksi akan turun di sejumlah kota b...   NETRAL\n",
       "4  pelaku pembunuhan remaja berinisial af yang di...  NEGATIF"
      ]
     },
     "execution_count": 35,
     "metadata": {},
     "output_type": "execute_result"
    }
   ],
   "source": [
    "df = pd.read_excel('dataset/DataLabel70.xlsx')\n",
    "df.head()"
   ]
  },
  {
   "cell_type": "code",
   "execution_count": 36,
   "metadata": {},
   "outputs": [
    {
     "data": {
      "text/plain": [
       "Value\n",
       "POSITIF    29\n",
       "NETRAL     23\n",
       "NEGATIF    18\n",
       "Name: count, dtype: int64"
      ]
     },
     "execution_count": 36,
     "metadata": {},
     "output_type": "execute_result"
    }
   ],
   "source": [
    "df['Value'].value_counts()"
   ]
  },
  {
   "cell_type": "code",
   "execution_count": 37,
   "metadata": {},
   "outputs": [
    {
     "data": {
      "text/plain": [
       "70"
      ]
     },
     "execution_count": 37,
     "metadata": {},
     "output_type": "execute_result"
    }
   ],
   "source": [
    "df['Value'].count().sum()"
   ]
  },
  {
   "cell_type": "code",
   "execution_count": 38,
   "metadata": {},
   "outputs": [
    {
     "data": {
      "text/plain": [
       "Text(0.5, 0, 'Katagori Sentimen')"
      ]
     },
     "execution_count": 38,
     "metadata": {},
     "output_type": "execute_result"
    },
    {
     "data": {
      "image/png": "[encoded data removed]",
      "text/plain": [
       "<Figure size 200x200 with 1 Axes>"
      ]
     },
     "metadata": {},
     "output_type": "display_data"
    }
   ],
   "source": [
    "df['Value'].value_counts().plot(kind=\"bar\")\n",
    "\n",
    "\n",
    "mpt.title(\"Sentimen\")\n",
    "mpt.ylabel('Jumalh Sentimen')\n",
    "mpt.xlabel('Katagori Sentimen')"
   ]
  },
  {
   "cell_type": "markdown",
   "metadata": {},
   "source": [
    "# Case Folding"
   ]
  },
  {
   "cell_type": "code",
   "execution_count": 39,
   "metadata": {},
   "outputs": [
    {
     "data": {
      "text/html": [
       "<div>\n",
       "<style scoped>\n",
       "    .dataframe tbody tr th:only-of-type {\n",
       "        vertical-align: middle;\n",
       "    }\n",
       "\n",
       "    .dataframe tbody tr th {\n",
       "        vertical-align: top;\n",
       "    }\n",
       "\n",
       "    .dataframe thead th {\n",
       "        text-align: right;\n",
       "    }\n",
       "</style>\n",
       "<table border=\"1\" class=\"dataframe\">\n",
       "  <thead>\n",
       "    <tr style=\"text-align: right;\">\n",
       "      <th></th>\n",
       "      <th>Konten</th>\n",
       "      <th>Value</th>\n",
       "    </tr>\n",
       "  </thead>\n",
       "  <tbody>\n",
       "    <tr>\n",
       "      <th>0</th>\n",
       "      <td>pelaksana tugas plt wali kota cimahi ngatiyana...</td>\n",
       "      <td>POSITIF</td>\n",
       "    </tr>\n",
       "    <tr>\n",
       "      <th>1</th>\n",
       "      <td>seri hp gaming redmi c pantas jadi opsi redmi ...</td>\n",
       "      <td>NETRAL</td>\n",
       "    </tr>\n",
       "    <tr>\n",
       "      <th>2</th>\n",
       "      <td>puluhan rumah di perumahan griya zavira desa m...</td>\n",
       "      <td>NEGATIF</td>\n",
       "    </tr>\n",
       "    <tr>\n",
       "      <th>3</th>\n",
       "      <td>hujan diprediksi akan turun di sejumlah kota b...</td>\n",
       "      <td>NETRAL</td>\n",
       "    </tr>\n",
       "    <tr>\n",
       "      <th>4</th>\n",
       "      <td>pelaku pembunuhan remaja berinisial af yang di...</td>\n",
       "      <td>NEGATIF</td>\n",
       "    </tr>\n",
       "  </tbody>\n",
       "</table>\n",
       "</div>"
      ],
      "text/plain": [
       "                                              Konten    Value\n",
       "0  pelaksana tugas plt wali kota cimahi ngatiyana...  POSITIF\n",
       "1  seri hp gaming redmi c pantas jadi opsi redmi ...   NETRAL\n",
       "2  puluhan rumah di perumahan griya zavira desa m...  NEGATIF\n",
       "3  hujan diprediksi akan turun di sejumlah kota b...   NETRAL\n",
       "4  pelaku pembunuhan remaja berinisial af yang di...  NEGATIF"
      ]
     },
     "execution_count": 39,
     "metadata": {},
     "output_type": "execute_result"
    }
   ],
   "source": [
    "import re\n",
    "def casefolding(kalimat):\n",
    "    kalimat = kalimat.strip(\" \")\n",
    "    kalimat = re.sub(r'[|?|$|.|!_:\")(-+,)]','', kalimat)\n",
    "    return kalimat\n",
    "\n",
    "df['Konten'] = df['Konten'].apply(casefolding)\n",
    "df.head()"
   ]
  },
  {
   "cell_type": "markdown",
   "metadata": {},
   "source": [
    "# Tokenizing"
   ]
  },
  {
   "cell_type": "code",
   "execution_count": 40,
   "metadata": {},
   "outputs": [],
   "source": [
    "from nltk.tokenize import RegexpTokenizer\n",
    "regexp = RegexpTokenizer(r'\\w+|$[0-9]+|\\S')\n",
    "token = df[\"Konten\"].apply(regexp.tokenize)\n",
    "df.insert(df.columns.get_loc(\"Value\"),\"Token\", token)"
   ]
  },
  {
   "cell_type": "code",
   "execution_count": 41,
   "metadata": {},
   "outputs": [
    {
     "data": {
      "text/html": [
       "<div>\n",
       "<style scoped>\n",
       "    .dataframe tbody tr th:only-of-type {\n",
       "        vertical-align: middle;\n",
       "    }\n",
       "\n",
       "    .dataframe tbody tr th {\n",
       "        vertical-align: top;\n",
       "    }\n",
       "\n",
       "    .dataframe thead th {\n",
       "        text-align: right;\n",
       "    }\n",
       "</style>\n",
       "<table border=\"1\" class=\"dataframe\">\n",
       "  <thead>\n",
       "    <tr style=\"text-align: right;\">\n",
       "      <th></th>\n",
       "      <th>Konten</th>\n",
       "      <th>Token</th>\n",
       "      <th>Value</th>\n",
       "    </tr>\n",
       "  </thead>\n",
       "  <tbody>\n",
       "    <tr>\n",
       "      <th>0</th>\n",
       "      <td>pelaksana tugas plt wali kota cimahi ngatiyana...</td>\n",
       "      <td>[pelaksana, tugas, plt, wali, kota, cimahi, ng...</td>\n",
       "      <td>POSITIF</td>\n",
       "    </tr>\n",
       "    <tr>\n",
       "      <th>1</th>\n",
       "      <td>seri hp gaming redmi c pantas jadi opsi redmi ...</td>\n",
       "      <td>[seri, hp, gaming, redmi, c, pantas, jadi, ops...</td>\n",
       "      <td>NETRAL</td>\n",
       "    </tr>\n",
       "    <tr>\n",
       "      <th>2</th>\n",
       "      <td>puluhan rumah di perumahan griya zavira desa m...</td>\n",
       "      <td>[puluhan, rumah, di, perumahan, griya, zavira,...</td>\n",
       "      <td>NEGATIF</td>\n",
       "    </tr>\n",
       "    <tr>\n",
       "      <th>3</th>\n",
       "      <td>hujan diprediksi akan turun di sejumlah kota b...</td>\n",
       "      <td>[hujan, diprediksi, akan, turun, di, sejumlah,...</td>\n",
       "      <td>NETRAL</td>\n",
       "    </tr>\n",
       "    <tr>\n",
       "      <th>4</th>\n",
       "      <td>pelaku pembunuhan remaja berinisial af yang di...</td>\n",
       "      <td>[pelaku, pembunuhan, remaja, berinisial, af, y...</td>\n",
       "      <td>NEGATIF</td>\n",
       "    </tr>\n",
       "  </tbody>\n",
       "</table>\n",
       "</div>"
      ],
      "text/plain": [
       "                                              Konten   \n",
       "0  pelaksana tugas plt wali kota cimahi ngatiyana...  \\\n",
       "1  seri hp gaming redmi c pantas jadi opsi redmi ...   \n",
       "2  puluhan rumah di perumahan griya zavira desa m...   \n",
       "3  hujan diprediksi akan turun di sejumlah kota b...   \n",
       "4  pelaku pembunuhan remaja berinisial af yang di...   \n",
       "\n",
       "                                               Token    Value  \n",
       "0  [pelaksana, tugas, plt, wali, kota, cimahi, ng...  POSITIF  \n",
       "1  [seri, hp, gaming, redmi, c, pantas, jadi, ops...   NETRAL  \n",
       "2  [puluhan, rumah, di, perumahan, griya, zavira,...  NEGATIF  \n",
       "3  [hujan, diprediksi, akan, turun, di, sejumlah,...   NETRAL  \n",
       "4  [pelaku, pembunuhan, remaja, berinisial, af, y...  NEGATIF  "
      ]
     },
     "execution_count": 41,
     "metadata": {},
     "output_type": "execute_result"
    }
   ],
   "source": [
    "df.head()"
   ]
  },
  {
   "cell_type": "markdown",
   "metadata": {},
   "source": [
    "# StopWord"
   ]
  },
  {
   "cell_type": "code",
   "execution_count": 42,
   "metadata": {},
   "outputs": [
    {
     "name": "stderr",
     "output_type": "stream",
     "text": [
      "[nltk_data] Downloading package stopwords to\n",
      "[nltk_data]     C:\\Users\\AdmiN\\AppData\\Roaming\\nltk_data...\n",
      "[nltk_data]   Package stopwords is already up-to-date!\n"
     ]
    },
    {
     "data": {
      "text/plain": [
       "True"
      ]
     },
     "execution_count": 42,
     "metadata": {},
     "output_type": "execute_result"
    }
   ],
   "source": [
    "import nltk as nk\n",
    "nk.download('stopwords')"
   ]
  },
  {
   "cell_type": "code",
   "execution_count": 43,
   "metadata": {},
   "outputs": [],
   "source": [
    "from nltk.corpus import stopwords\n",
    "stopword = stopwords.words('indonesian')\n",
    "txt_stopword = pd.read_csv('text/stopword.txt', names=['stopword'], header=None)\n",
    "stopword.extend(['wkwk','hahahaha','haha','yang','yoi','yoyoy'])\n",
    "stopword.extend(txt_stopword[\"stopword\"][0].split('\\n'))\n",
    "stopword = set(stopword)\n",
    "\n",
    "def stopwords(text):\n",
    "    text = [word for word in text if word not in stopword]\n",
    "    return text"
   ]
  },
  {
   "cell_type": "code",
   "execution_count": 44,
   "metadata": {},
   "outputs": [],
   "source": [
    "stopword = df['Token'].apply(stopwords)\n",
    "df.insert(df.columns.get_loc(\"Value\"),\"stopword\", stopword)"
   ]
  },
  {
   "cell_type": "code",
   "execution_count": 45,
   "metadata": {},
   "outputs": [
    {
     "data": {
      "text/html": [
       "<div>\n",
       "<style scoped>\n",
       "    .dataframe tbody tr th:only-of-type {\n",
       "        vertical-align: middle;\n",
       "    }\n",
       "\n",
       "    .dataframe tbody tr th {\n",
       "        vertical-align: top;\n",
       "    }\n",
       "\n",
       "    .dataframe thead th {\n",
       "        text-align: right;\n",
       "    }\n",
       "</style>\n",
       "<table border=\"1\" class=\"dataframe\">\n",
       "  <thead>\n",
       "    <tr style=\"text-align: right;\">\n",
       "      <th></th>\n",
       "      <th>Konten</th>\n",
       "      <th>Token</th>\n",
       "      <th>stopword</th>\n",
       "      <th>Value</th>\n",
       "    </tr>\n",
       "  </thead>\n",
       "  <tbody>\n",
       "    <tr>\n",
       "      <th>0</th>\n",
       "      <td>pelaksana tugas plt wali kota cimahi ngatiyana...</td>\n",
       "      <td>[pelaksana, tugas, plt, wali, kota, cimahi, ng...</td>\n",
       "      <td>[pelaksana, tugas, plt, wali, kota, cimahi, ng...</td>\n",
       "      <td>POSITIF</td>\n",
       "    </tr>\n",
       "    <tr>\n",
       "      <th>1</th>\n",
       "      <td>seri hp gaming redmi c pantas jadi opsi redmi ...</td>\n",
       "      <td>[seri, hp, gaming, redmi, c, pantas, jadi, ops...</td>\n",
       "      <td>[seri, hp, gaming, redmi, c, opsi, redmi, c, d...</td>\n",
       "      <td>NETRAL</td>\n",
       "    </tr>\n",
       "    <tr>\n",
       "      <th>2</th>\n",
       "      <td>puluhan rumah di perumahan griya zavira desa m...</td>\n",
       "      <td>[puluhan, rumah, di, perumahan, griya, zavira,...</td>\n",
       "      <td>[puluhan, rumah, perumahan, griya, zavira, des...</td>\n",
       "      <td>NEGATIF</td>\n",
       "    </tr>\n",
       "    <tr>\n",
       "      <th>3</th>\n",
       "      <td>hujan diprediksi akan turun di sejumlah kota b...</td>\n",
       "      <td>[hujan, diprediksi, akan, turun, di, sejumlah,...</td>\n",
       "      <td>[hujan, diprediksi, turun, kota, indonesia, se...</td>\n",
       "      <td>NETRAL</td>\n",
       "    </tr>\n",
       "    <tr>\n",
       "      <th>4</th>\n",
       "      <td>pelaku pembunuhan remaja berinisial af yang di...</td>\n",
       "      <td>[pelaku, pembunuhan, remaja, berinisial, af, y...</td>\n",
       "      <td>[pelaku, pembunuhan, remaja, berinisial, af, d...</td>\n",
       "      <td>NEGATIF</td>\n",
       "    </tr>\n",
       "  </tbody>\n",
       "</table>\n",
       "</div>"
      ],
      "text/plain": [
       "                                              Konten   \n",
       "0  pelaksana tugas plt wali kota cimahi ngatiyana...  \\\n",
       "1  seri hp gaming redmi c pantas jadi opsi redmi ...   \n",
       "2  puluhan rumah di perumahan griya zavira desa m...   \n",
       "3  hujan diprediksi akan turun di sejumlah kota b...   \n",
       "4  pelaku pembunuhan remaja berinisial af yang di...   \n",
       "\n",
       "                                               Token   \n",
       "0  [pelaksana, tugas, plt, wali, kota, cimahi, ng...  \\\n",
       "1  [seri, hp, gaming, redmi, c, pantas, jadi, ops...   \n",
       "2  [puluhan, rumah, di, perumahan, griya, zavira,...   \n",
       "3  [hujan, diprediksi, akan, turun, di, sejumlah,...   \n",
       "4  [pelaku, pembunuhan, remaja, berinisial, af, y...   \n",
       "\n",
       "                                            stopword    Value  \n",
       "0  [pelaksana, tugas, plt, wali, kota, cimahi, ng...  POSITIF  \n",
       "1  [seri, hp, gaming, redmi, c, opsi, redmi, c, d...   NETRAL  \n",
       "2  [puluhan, rumah, perumahan, griya, zavira, des...  NEGATIF  \n",
       "3  [hujan, diprediksi, turun, kota, indonesia, se...   NETRAL  \n",
       "4  [pelaku, pembunuhan, remaja, berinisial, af, d...  NEGATIF  "
      ]
     },
     "execution_count": 45,
     "metadata": {},
     "output_type": "execute_result"
    }
   ],
   "source": [
    "df.head()"
   ]
  },
  {
   "cell_type": "markdown",
   "metadata": {},
   "source": [
    "# Stemming"
   ]
  },
  {
   "cell_type": "code",
   "execution_count": 46,
   "metadata": {},
   "outputs": [],
   "source": [
    "from Sastrawi.Stemmer.StemmerFactory import StemmerFactory"
   ]
  },
  {
   "cell_type": "code",
   "execution_count": 47,
   "metadata": {},
   "outputs": [],
   "source": [
    "def stemming(konten):\n",
    "    factory = StemmerFactory()\n",
    "    stemmer = factory.create_stemmer()\n",
    "    do = []\n",
    "    for w in konten:\n",
    "        dt = stemmer.stem(w)\n",
    "        do.append(dt)\n",
    "    \n",
    "    d_clean = []\n",
    "    d_clean = \" \".join(do)\n",
    "    return d_clean"
   ]
  },
  {
   "cell_type": "markdown",
   "metadata": {},
   "source": []
  },
  {
   "cell_type": "code",
   "execution_count": 48,
   "metadata": {},
   "outputs": [],
   "source": [
    "\n",
    "stemmed = df['stopword'].apply(stemming)\n",
    "df.insert(df.columns.get_loc(\"Value\"),\"stemmed\", stemmed)\n"
   ]
  },
  {
   "cell_type": "code",
   "execution_count": 51,
   "metadata": {},
   "outputs": [
    {
     "data": {
      "text/html": [
       "<div>\n",
       "<style scoped>\n",
       "    .dataframe tbody tr th:only-of-type {\n",
       "        vertical-align: middle;\n",
       "    }\n",
       "\n",
       "    .dataframe tbody tr th {\n",
       "        vertical-align: top;\n",
       "    }\n",
       "\n",
       "    .dataframe thead th {\n",
       "        text-align: right;\n",
       "    }\n",
       "</style>\n",
       "<table border=\"1\" class=\"dataframe\">\n",
       "  <thead>\n",
       "    <tr style=\"text-align: right;\">\n",
       "      <th></th>\n",
       "      <th>Konten</th>\n",
       "      <th>Token</th>\n",
       "      <th>stopword</th>\n",
       "      <th>stemmed</th>\n",
       "      <th>Value</th>\n",
       "    </tr>\n",
       "  </thead>\n",
       "  <tbody>\n",
       "    <tr>\n",
       "      <th>0</th>\n",
       "      <td>pelaksana tugas plt wali kota cimahi ngatiyana...</td>\n",
       "      <td>[pelaksana, tugas, plt, wali, kota, cimahi, ng...</td>\n",
       "      <td>[pelaksana, tugas, plt, wali, kota, cimahi, ng...</td>\n",
       "      <td>laksana tugas plt wali kota cimahi ngatiyana h...</td>\n",
       "      <td>POSITIF</td>\n",
       "    </tr>\n",
       "    <tr>\n",
       "      <th>1</th>\n",
       "      <td>seri hp gaming redmi c pantas jadi opsi redmi ...</td>\n",
       "      <td>[seri, hp, gaming, redmi, c, pantas, jadi, ops...</td>\n",
       "      <td>[seri, hp, gaming, redmi, c, opsi, redmi, c, d...</td>\n",
       "      <td>seri hp gaming redmi c opsi redmi c tawar laya...</td>\n",
       "      <td>NETRAL</td>\n",
       "    </tr>\n",
       "    <tr>\n",
       "      <th>2</th>\n",
       "      <td>puluhan rumah di perumahan griya zavira desa m...</td>\n",
       "      <td>[puluhan, rumah, di, perumahan, griya, zavira,...</td>\n",
       "      <td>[puluhan, rumah, perumahan, griya, zavira, des...</td>\n",
       "      <td>puluh rumah rumah griya zavira desa mangkuraky...</td>\n",
       "      <td>NEGATIF</td>\n",
       "    </tr>\n",
       "    <tr>\n",
       "      <th>3</th>\n",
       "      <td>hujan diprediksi akan turun di sejumlah kota b...</td>\n",
       "      <td>[hujan, diprediksi, akan, turun, di, sejumlah,...</td>\n",
       "      <td>[hujan, diprediksi, turun, kota, indonesia, se...</td>\n",
       "      <td>hujan prediksi turun kota indonesia senin juli...</td>\n",
       "      <td>NETRAL</td>\n",
       "    </tr>\n",
       "    <tr>\n",
       "      <th>4</th>\n",
       "      <td>pelaku pembunuhan remaja berinisial af yang di...</td>\n",
       "      <td>[pelaku, pembunuhan, remaja, berinisial, af, y...</td>\n",
       "      <td>[pelaku, pembunuhan, remaja, berinisial, af, d...</td>\n",
       "      <td>laku bunuh remaja inisial af temu tewas enas h...</td>\n",
       "      <td>NEGATIF</td>\n",
       "    </tr>\n",
       "  </tbody>\n",
       "</table>\n",
       "</div>"
      ],
      "text/plain": [
       "                                              Konten   \n",
       "0  pelaksana tugas plt wali kota cimahi ngatiyana...  \\\n",
       "1  seri hp gaming redmi c pantas jadi opsi redmi ...   \n",
       "2  puluhan rumah di perumahan griya zavira desa m...   \n",
       "3  hujan diprediksi akan turun di sejumlah kota b...   \n",
       "4  pelaku pembunuhan remaja berinisial af yang di...   \n",
       "\n",
       "                                               Token   \n",
       "0  [pelaksana, tugas, plt, wali, kota, cimahi, ng...  \\\n",
       "1  [seri, hp, gaming, redmi, c, pantas, jadi, ops...   \n",
       "2  [puluhan, rumah, di, perumahan, griya, zavira,...   \n",
       "3  [hujan, diprediksi, akan, turun, di, sejumlah,...   \n",
       "4  [pelaku, pembunuhan, remaja, berinisial, af, y...   \n",
       "\n",
       "                                            stopword   \n",
       "0  [pelaksana, tugas, plt, wali, kota, cimahi, ng...  \\\n",
       "1  [seri, hp, gaming, redmi, c, opsi, redmi, c, d...   \n",
       "2  [puluhan, rumah, perumahan, griya, zavira, des...   \n",
       "3  [hujan, diprediksi, turun, kota, indonesia, se...   \n",
       "4  [pelaku, pembunuhan, remaja, berinisial, af, d...   \n",
       "\n",
       "                                             stemmed    Value  \n",
       "0  laksana tugas plt wali kota cimahi ngatiyana h...  POSITIF  \n",
       "1  seri hp gaming redmi c opsi redmi c tawar laya...   NETRAL  \n",
       "2  puluh rumah rumah griya zavira desa mangkuraky...  NEGATIF  \n",
       "3  hujan prediksi turun kota indonesia senin juli...   NETRAL  \n",
       "4  laku bunuh remaja inisial af temu tewas enas h...  NEGATIF  "
      ]
     },
     "execution_count": 51,
     "metadata": {},
     "output_type": "execute_result"
    }
   ],
   "source": [
    "df.head()"
   ]
  },
  {
   "cell_type": "code",
   "execution_count": 2,
   "metadata": {},
   "outputs": [
    {
     "ename": "NameError",
     "evalue": "name 'df' is not defined",
     "output_type": "error",
     "traceback": [
      "\u001b[1;31m---------------------------------------------------------------------------\u001b[0m",
      "\u001b[1;31mNameError\u001b[0m                                 Traceback (most recent call last)",
      "Cell \u001b[1;32mIn[2], line 1\u001b[0m\n\u001b[1;32m----> 1\u001b[0m df\u001b[39m.\u001b[39mto_csv(\u001b[39m'\u001b[39m\u001b[39mdataset/data_clean70.csv\u001b[39m\u001b[39m'\u001b[39m,index\u001b[39m=\u001b[39m\u001b[39mFalse\u001b[39;00m, header\u001b[39m=\u001b[39m\u001b[39mTrue\u001b[39;00m)\n",
      "\u001b[1;31mNameError\u001b[0m: name 'df' is not defined"
     ]
    }
   ],
   "source": [
    "df.to_csv('dataset/data_clean70.csv',index=False, header=True)"
   ]
  },
  {
   "cell_type": "code",
   "execution_count": 3,
   "metadata": {},
   "outputs": [
    {
     "data": {
      "text/html": [
       "<div>\n",
       "<style scoped>\n",
       "    .dataframe tbody tr th:only-of-type {\n",
       "        vertical-align: middle;\n",
       "    }\n",
       "\n",
       "    .dataframe tbody tr th {\n",
       "        vertical-align: top;\n",
       "    }\n",
       "\n",
       "    .dataframe thead th {\n",
       "        text-align: right;\n",
       "    }\n",
       "</style>\n",
       "<table border=\"1\" class=\"dataframe\">\n",
       "  <thead>\n",
       "    <tr style=\"text-align: right;\">\n",
       "      <th></th>\n",
       "      <th>Konten</th>\n",
       "      <th>Token</th>\n",
       "      <th>stopword</th>\n",
       "      <th>stemmed</th>\n",
       "      <th>Value</th>\n",
       "    </tr>\n",
       "  </thead>\n",
       "  <tbody>\n",
       "    <tr>\n",
       "      <th>0</th>\n",
       "      <td>pelaksana tugas plt wali kota cimahi ngatiyana...</td>\n",
       "      <td>['pelaksana', 'tugas', 'plt', 'wali', 'kota', ...</td>\n",
       "      <td>['pelaksana', 'tugas', 'plt', 'wali', 'kota', ...</td>\n",
       "      <td>laksana tugas plt wali kota cimahi ngatiyana h...</td>\n",
       "      <td>POSITIF</td>\n",
       "    </tr>\n",
       "    <tr>\n",
       "      <th>1</th>\n",
       "      <td>seri hp gaming redmi c pantas jadi opsi redmi ...</td>\n",
       "      <td>['seri', 'hp', 'gaming', 'redmi', 'c', 'pantas...</td>\n",
       "      <td>['seri', 'hp', 'gaming', 'redmi', 'c', 'opsi',...</td>\n",
       "      <td>seri hp gaming redmi c opsi redmi c tawar laya...</td>\n",
       "      <td>NETRAL</td>\n",
       "    </tr>\n",
       "    <tr>\n",
       "      <th>2</th>\n",
       "      <td>puluhan rumah di perumahan griya zavira desa m...</td>\n",
       "      <td>['puluhan', 'rumah', 'di', 'perumahan', 'griya...</td>\n",
       "      <td>['puluhan', 'rumah', 'perumahan', 'griya', 'za...</td>\n",
       "      <td>puluh rumah rumah griya zavira desa mangkuraky...</td>\n",
       "      <td>NEGATIF</td>\n",
       "    </tr>\n",
       "    <tr>\n",
       "      <th>3</th>\n",
       "      <td>hujan diprediksi akan turun di sejumlah kota b...</td>\n",
       "      <td>['hujan', 'diprediksi', 'akan', 'turun', 'di',...</td>\n",
       "      <td>['hujan', 'diprediksi', 'turun', 'kota', 'indo...</td>\n",
       "      <td>hujan prediksi turun kota indonesia senin juli...</td>\n",
       "      <td>NETRAL</td>\n",
       "    </tr>\n",
       "    <tr>\n",
       "      <th>4</th>\n",
       "      <td>pelaku pembunuhan remaja berinisial af yang di...</td>\n",
       "      <td>['pelaku', 'pembunuhan', 'remaja', 'berinisial...</td>\n",
       "      <td>['pelaku', 'pembunuhan', 'remaja', 'berinisial...</td>\n",
       "      <td>laku bunuh remaja inisial af temu tewas enas h...</td>\n",
       "      <td>NEGATIF</td>\n",
       "    </tr>\n",
       "  </tbody>\n",
       "</table>\n",
       "</div>"
      ],
      "text/plain": [
       "                                              Konten   \n",
       "0  pelaksana tugas plt wali kota cimahi ngatiyana...  \\\n",
       "1  seri hp gaming redmi c pantas jadi opsi redmi ...   \n",
       "2  puluhan rumah di perumahan griya zavira desa m...   \n",
       "3  hujan diprediksi akan turun di sejumlah kota b...   \n",
       "4  pelaku pembunuhan remaja berinisial af yang di...   \n",
       "\n",
       "                                               Token   \n",
       "0  ['pelaksana', 'tugas', 'plt', 'wali', 'kota', ...  \\\n",
       "1  ['seri', 'hp', 'gaming', 'redmi', 'c', 'pantas...   \n",
       "2  ['puluhan', 'rumah', 'di', 'perumahan', 'griya...   \n",
       "3  ['hujan', 'diprediksi', 'akan', 'turun', 'di',...   \n",
       "4  ['pelaku', 'pembunuhan', 'remaja', 'berinisial...   \n",
       "\n",
       "                                            stopword   \n",
       "0  ['pelaksana', 'tugas', 'plt', 'wali', 'kota', ...  \\\n",
       "1  ['seri', 'hp', 'gaming', 'redmi', 'c', 'opsi',...   \n",
       "2  ['puluhan', 'rumah', 'perumahan', 'griya', 'za...   \n",
       "3  ['hujan', 'diprediksi', 'turun', 'kota', 'indo...   \n",
       "4  ['pelaku', 'pembunuhan', 'remaja', 'berinisial...   \n",
       "\n",
       "                                             stemmed    Value  \n",
       "0  laksana tugas plt wali kota cimahi ngatiyana h...  POSITIF  \n",
       "1  seri hp gaming redmi c opsi redmi c tawar laya...   NETRAL  \n",
       "2  puluh rumah rumah griya zavira desa mangkuraky...  NEGATIF  \n",
       "3  hujan prediksi turun kota indonesia senin juli...   NETRAL  \n",
       "4  laku bunuh remaja inisial af temu tewas enas h...  NEGATIF  "
      ]
     },
     "execution_count": 3,
     "metadata": {},
     "output_type": "execute_result"
    }
   ],
   "source": [
    "clean_data = pd.read_csv('dataset/data_clean70.csv')\n",
    "clean_data.head()"
   ]
  },
  {
   "cell_type": "code",
   "execution_count": 4,
   "metadata": {},
   "outputs": [
    {
     "data": {
      "text/plain": [
       "Konten              object\n",
       "Token               object\n",
       "stopword            object\n",
       "stemmed     string[python]\n",
       "Value             category\n",
       "dtype: object"
      ]
     },
     "execution_count": 4,
     "metadata": {},
     "output_type": "execute_result"
    }
   ],
   "source": [
    "clean_data = clean_data.astype({'Value' : 'category'})\n",
    "clean_data = clean_data.astype({'stemmed' : 'string'})\n",
    "clean_data.dtypes\n"
   ]
  },
  {
   "cell_type": "markdown",
   "metadata": {},
   "source": [
    "# Feature Extraction"
   ]
  },
  {
   "cell_type": "markdown",
   "metadata": {},
   "source": [
    "## TF-IDF"
   ]
  },
  {
   "cell_type": "code",
   "execution_count": 5,
   "metadata": {},
   "outputs": [],
   "source": [
    "from sklearn.feature_extraction.text import TfidfVectorizer\n",
    "from sklearn.feature_extraction.text import CountVectorizer"
   ]
  },
  {
   "cell_type": "code",
   "execution_count": 6,
   "metadata": {},
   "outputs": [],
   "source": [
    "tf = TfidfVectorizer()\n",
    "text_tf = tf.fit_transform(clean_data['stemmed'].astype('U'))"
   ]
  },
  {
   "cell_type": "markdown",
   "metadata": {},
   "source": [
    "## Bags Of Words"
   ]
  },
  {
   "cell_type": "code",
   "execution_count": 7,
   "metadata": {},
   "outputs": [],
   "source": [
    "bow = CountVectorizer()\n",
    "bow.fit(clean_data['stemmed'])\n",
    "bow_feature = bow.transform(clean_data['stemmed'].astype('U'))"
   ]
  },
  {
   "cell_type": "markdown",
   "metadata": {},
   "source": [
    "## Term Pressence"
   ]
  },
  {
   "cell_type": "code",
   "execution_count": null,
   "metadata": {},
   "outputs": [],
   "source": []
  },
  {
   "cell_type": "markdown",
   "metadata": {},
   "source": [
    "# Split Data ( TF-IDF )"
   ]
  },
  {
   "cell_type": "code",
   "execution_count": 8,
   "metadata": {},
   "outputs": [],
   "source": [
    "from sklearn.model_selection import train_test_split"
   ]
  },
  {
   "cell_type": "code",
   "execution_count": 9,
   "metadata": {},
   "outputs": [],
   "source": [
    "x_train, x_test, y_train, y_test = train_test_split(text_tf, clean_data['Value'], test_size=0.2, random_state=42)"
   ]
  },
  {
   "cell_type": "code",
   "execution_count": 10,
   "metadata": {},
   "outputs": [],
   "source": [
    "# postif = clean_data[clean_data['Value']=='POSITIF'][0:10]\n",
    "# negatif = clean_data[clean_data['Value']=='NEGATIF'][0:10]\n",
    "# netral = clean_data[clean_data['Value']=='NETRAL'][0:10]"
   ]
  },
  {
   "cell_type": "markdown",
   "metadata": {},
   "source": [
    "# Implementasi Algoritma"
   ]
  },
  {
   "cell_type": "code",
   "execution_count": 11,
   "metadata": {},
   "outputs": [],
   "source": [
    "from sklearn.metrics import classification_report, confusion_matrix, accuracy_score, f1_score, precision_score, recall_score\n",
    "import sklearn.svm as svm\n",
    "import sklearn.naive_bayes as nb\n"
   ]
  },
  {
   "cell_type": "markdown",
   "metadata": {},
   "source": [
    "## Support Vector Machine (SVM)"
   ]
  },
  {
   "cell_type": "code",
   "execution_count": 12,
   "metadata": {},
   "outputs": [],
   "source": [
    "classifier = svm.SVC(kernel=\"linear\",gamma='auto', C=2 )\n",
    "classifier.fit(x_train,y_train)\n",
    "\n",
    "predicted_svm = classifier.predict(x_test)\n",
    "report  = classification_report(y_test, predicted_svm)"
   ]
  },
  {
   "cell_type": "code",
   "execution_count": 13,
   "metadata": {},
   "outputs": [
    {
     "name": "stdout",
     "output_type": "stream",
     "text": [
      "SVC Accuracy:  0.6428571428571429\n",
      "SVC Precision:  0.6428571428571429\n",
      "SVC Recall:  0.6428571428571429\n",
      "SVC f1_score:  0.6428571428571429\n",
      "Confussion matrix: \n",
      " [[2 0 0]\n",
      " [0 4 2]\n",
      " [3 0 3]]\n",
      "=============================================================\n",
      "              precision    recall  f1-score   support\n",
      "\n",
      "     NEGATIF       0.40      1.00      0.57         2\n",
      "      NETRAL       1.00      0.67      0.80         6\n",
      "     POSITIF       0.60      0.50      0.55         6\n",
      "\n",
      "    accuracy                           0.64        14\n",
      "   macro avg       0.67      0.72      0.64        14\n",
      "weighted avg       0.74      0.64      0.66        14\n",
      "\n"
     ]
    }
   ],
   "source": [
    "print(\"SVC Accuracy: \", accuracy_score(y_test, predicted_svm))\n",
    "print(\"SVC Precision: \", precision_score(y_test, predicted_svm, average='micro'))\n",
    "print(\"SVC Recall: \", recall_score(y_test, predicted_svm, average='micro'))\n",
    "print(\"SVC f1_score: \", f1_score(y_test, predicted_svm, average='micro'))\n",
    "\n",
    "\n",
    "print(f\"Confussion matrix: \\n {confusion_matrix(y_test,predicted_svm)}\")\n",
    "print(\"=============================================================\")\n",
    "print(report)"
   ]
  },
  {
   "cell_type": "markdown",
   "metadata": {},
   "source": [
    "## Naive Bayes"
   ]
  },
  {
   "cell_type": "code",
   "execution_count": 14,
   "metadata": {},
   "outputs": [
    {
     "name": "stdout",
     "output_type": "stream",
     "text": [
      "MultinomialNB Accuracy:  0.7857142857142857\n",
      "MultinomialNB Precision:  0.7857142857142857\n",
      "MultinomialNB Recall:  0.7857142857142857\n",
      "MultinomialNB f1_score:  0.7857142857142857\n",
      "Confussion matrix: \n",
      " [[1 0 1]\n",
      " [0 4 2]\n",
      " [0 0 6]]\n",
      "===============================================================\n",
      "              precision    recall  f1-score   support\n",
      "\n",
      "     NEGATIF       1.00      0.50      0.67         2\n",
      "      NETRAL       1.00      0.67      0.80         6\n",
      "     POSITIF       0.67      1.00      0.80         6\n",
      "\n",
      "    accuracy                           0.79        14\n",
      "   macro avg       0.89      0.72      0.76        14\n",
      "weighted avg       0.86      0.79      0.78        14\n",
      "\n"
     ]
    }
   ],
   "source": [
    "clf = nb.MultinomialNB().fit(x_train,y_train)\n",
    "predicted_clf = clf.predict(x_test)\n",
    "\n",
    "print(\"MultinomialNB Accuracy: \", accuracy_score(y_test, predicted_clf))\n",
    "print(\"MultinomialNB Precision: \", precision_score(y_test, predicted_clf, average='micro'))\n",
    "print(\"MultinomialNB Recall: \", recall_score(y_test, predicted_clf, average='micro'))\n",
    "print(\"MultinomialNB f1_score: \", f1_score(y_test, predicted_clf, average='micro'))\n",
    "\n",
    "\n",
    "print(f\"Confussion matrix: \\n {confusion_matrix(y_test,predicted_clf)}\")\n",
    "print(\"===============================================================\")\n",
    "print(classification_report(y_test, predicted_clf, zero_division=0))\n"
   ]
  },
  {
   "cell_type": "markdown",
   "metadata": {},
   "source": [
    "# Split Data ( bags of Words )"
   ]
  },
  {
   "cell_type": "code",
   "execution_count": 15,
   "metadata": {},
   "outputs": [],
   "source": [
    "x_train, x_test, y_train, y_test = train_test_split(bow_feature, clean_data['Value'], test_size=0.2, random_state=42)"
   ]
  },
  {
   "cell_type": "markdown",
   "metadata": {},
   "source": [
    "# Implementasi Algoritma"
   ]
  },
  {
   "cell_type": "markdown",
   "metadata": {},
   "source": [
    "## Support Vector Machine (SVM)"
   ]
  },
  {
   "cell_type": "code",
   "execution_count": 16,
   "metadata": {},
   "outputs": [],
   "source": [
    "classifier = svm.SVC(kernel=\"linear\",gamma='auto', C=2 )\n",
    "classifier.fit(x_train,y_train)\n",
    "\n",
    "predicted_svm = classifier.predict(x_test)\n",
    "report  = classification_report(y_test, predicted_svm)"
   ]
  },
  {
   "cell_type": "code",
   "execution_count": 17,
   "metadata": {},
   "outputs": [
    {
     "name": "stdout",
     "output_type": "stream",
     "text": [
      "SVC Accuracy:  0.5714285714285714\n",
      "SVC Precision:  0.5714285714285714\n",
      "SVC Recall:  0.5714285714285714\n",
      "SVC f1_score:  0.5714285714285714\n",
      "Confussion matrix: \n",
      " [[2 0 0]\n",
      " [0 4 2]\n",
      " [4 0 2]]\n",
      "=============================================================\n",
      "              precision    recall  f1-score   support\n",
      "\n",
      "     NEGATIF       0.33      1.00      0.50         2\n",
      "      NETRAL       1.00      0.67      0.80         6\n",
      "     POSITIF       0.50      0.33      0.40         6\n",
      "\n",
      "    accuracy                           0.57        14\n",
      "   macro avg       0.61      0.67      0.57        14\n",
      "weighted avg       0.69      0.57      0.59        14\n",
      "\n"
     ]
    }
   ],
   "source": [
    "print(\"SVC Accuracy: \", accuracy_score(y_test, predicted_svm))\n",
    "print(\"SVC Precision: \", precision_score(y_test, predicted_svm, average='micro'))\n",
    "print(\"SVC Recall: \", recall_score(y_test, predicted_svm, average='micro'))\n",
    "print(\"SVC f1_score: \", f1_score(y_test, predicted_svm, average='micro'))\n",
    "\n",
    "\n",
    "print(f\"Confussion matrix: \\n {confusion_matrix(y_test,predicted_svm)}\")\n",
    "print(\"=============================================================\")\n",
    "print(report)"
   ]
  },
  {
   "cell_type": "markdown",
   "metadata": {},
   "source": [
    "## Naive Bayes"
   ]
  },
  {
   "cell_type": "code",
   "execution_count": 18,
   "metadata": {},
   "outputs": [
    {
     "name": "stdout",
     "output_type": "stream",
     "text": [
      "MultinomialNB Accuracy:  0.5\n",
      "MultinomialNB Precision:  0.5\n",
      "MultinomialNB Recall:  0.5\n",
      "MultinomialNB f1_score:  0.5\n",
      "Confussion matrix: \n",
      " [[2 0 0]\n",
      " [0 4 2]\n",
      " [5 0 1]]\n",
      "===============================================================\n",
      "              precision    recall  f1-score   support\n",
      "\n",
      "     NEGATIF       0.29      1.00      0.44         2\n",
      "      NETRAL       1.00      0.67      0.80         6\n",
      "     POSITIF       0.33      0.17      0.22         6\n",
      "\n",
      "    accuracy                           0.50        14\n",
      "   macro avg       0.54      0.61      0.49        14\n",
      "weighted avg       0.61      0.50      0.50        14\n",
      "\n"
     ]
    }
   ],
   "source": [
    "clf = nb.MultinomialNB().fit(x_train,y_train)\n",
    "predicted_clf = clf.predict(x_test)\n",
    "\n",
    "print(\"MultinomialNB Accuracy: \", accuracy_score(y_test, predicted_clf))\n",
    "print(\"MultinomialNB Precision: \", precision_score(y_test, predicted_clf, average='micro'))\n",
    "print(\"MultinomialNB Recall: \", recall_score(y_test, predicted_clf, average='micro'))\n",
    "print(\"MultinomialNB f1_score: \", f1_score(y_test, predicted_clf, average='micro'))\n",
    "\n",
    "\n",
    "print(f\"Confussion matrix: \\n {confusion_matrix(y_test,predicted_clf)}\")\n",
    "print(\"===============================================================\")\n",
    "print(classification_report(y_test, predicted_clf, zero_division=0))\n"
   ]
  }
 ],
 "metadata": {
  "kernelspec": {
   "display_name": "Python 3",
   "language": "python",
   "name": "python3"
  },
  "language_info": {
   "codemirror_mode": {
    "name": "ipython",
    "version": 3
   },
   "file_extension": ".py",
   "mimetype": "text/x-python",
   "name": "python",
   "nbconvert_exporter": "python",
   "pygments_lexer": "ipython3",
   "version": "3.11.3"
  },
  "orig_nbformat": 4
 },
 "nbformat": 4,
 "nbformat_minor": 2
}
