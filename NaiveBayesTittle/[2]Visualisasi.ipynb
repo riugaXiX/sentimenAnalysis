{
 "cells": [
  {
   "cell_type": "code",
   "execution_count": 2,
   "metadata": {},
   "outputs": [],
   "source": [
    "import pandas as pd\n",
    "import matplotlib.pyplot as mpt"
   ]
  },
  {
   "cell_type": "code",
   "execution_count": 3,
   "metadata": {},
   "outputs": [],
   "source": [
    "df = pd.read_csv('../dataset/data_clean150.csv')"
   ]
  },
  {
   "cell_type": "code",
   "execution_count": 4,
   "metadata": {},
   "outputs": [
    {
     "data": {
      "text/html": [
       "<div>\n",
       "<style scoped>\n",
       "    .dataframe tbody tr th:only-of-type {\n",
       "        vertical-align: middle;\n",
       "    }\n",
       "\n",
       "    .dataframe tbody tr th {\n",
       "        vertical-align: top;\n",
       "    }\n",
       "\n",
       "    .dataframe thead th {\n",
       "        text-align: right;\n",
       "    }\n",
       "</style>\n",
       "<table border=\"1\" class=\"dataframe\">\n",
       "  <thead>\n",
       "    <tr style=\"text-align: right;\">\n",
       "      <th></th>\n",
       "      <th>Konten</th>\n",
       "      <th>Token</th>\n",
       "      <th>stopword</th>\n",
       "      <th>stemmed</th>\n",
       "      <th>Value</th>\n",
       "    </tr>\n",
       "  </thead>\n",
       "  <tbody>\n",
       "    <tr>\n",
       "      <th>0</th>\n",
       "      <td>pelaksana tugas plt wali kota cimahi ngatiyana...</td>\n",
       "      <td>['pelaksana', 'tugas', 'plt', 'wali', 'kota', ...</td>\n",
       "      <td>['pelaksana', 'tugas', 'plt', 'wali', 'kota', ...</td>\n",
       "      <td>laksana tugas plt wali kota cimahi ngatiyana h...</td>\n",
       "      <td>POSITIF</td>\n",
       "    </tr>\n",
       "    <tr>\n",
       "      <th>1</th>\n",
       "      <td>seri hp gaming redmi c pantas jadi opsi redmi ...</td>\n",
       "      <td>['seri', 'hp', 'gaming', 'redmi', 'c', 'pantas...</td>\n",
       "      <td>['seri', 'hp', 'gaming', 'redmi', 'c', 'opsi',...</td>\n",
       "      <td>seri hp gaming redmi c opsi redmi c tawar laya...</td>\n",
       "      <td>NETRAL</td>\n",
       "    </tr>\n",
       "    <tr>\n",
       "      <th>2</th>\n",
       "      <td>puluhan rumah di perumahan griya zavira desa m...</td>\n",
       "      <td>['puluhan', 'rumah', 'di', 'perumahan', 'griya...</td>\n",
       "      <td>['puluhan', 'rumah', 'perumahan', 'griya', 'za...</td>\n",
       "      <td>puluh rumah rumah griya zavira desa mangkuraky...</td>\n",
       "      <td>NEGATIF</td>\n",
       "    </tr>\n",
       "    <tr>\n",
       "      <th>3</th>\n",
       "      <td>hujan diprediksi akan turun di sejumlah kota b...</td>\n",
       "      <td>['hujan', 'diprediksi', 'akan', 'turun', 'di',...</td>\n",
       "      <td>['hujan', 'diprediksi', 'turun', 'kota', 'indo...</td>\n",
       "      <td>hujan prediksi turun kota indonesia senin juli...</td>\n",
       "      <td>NETRAL</td>\n",
       "    </tr>\n",
       "    <tr>\n",
       "      <th>4</th>\n",
       "      <td>pelaku pembunuhan remaja berinisial af yang di...</td>\n",
       "      <td>['pelaku', 'pembunuhan', 'remaja', 'berinisial...</td>\n",
       "      <td>['pelaku', 'pembunuhan', 'remaja', 'berinisial...</td>\n",
       "      <td>laku bunuh remaja inisial af temu tewas enas h...</td>\n",
       "      <td>NEGATIF</td>\n",
       "    </tr>\n",
       "  </tbody>\n",
       "</table>\n",
       "</div>"
      ],
      "text/plain": [
       "                                              Konten   \n",
       "0  pelaksana tugas plt wali kota cimahi ngatiyana...  \\\n",
       "1  seri hp gaming redmi c pantas jadi opsi redmi ...   \n",
       "2  puluhan rumah di perumahan griya zavira desa m...   \n",
       "3  hujan diprediksi akan turun di sejumlah kota b...   \n",
       "4  pelaku pembunuhan remaja berinisial af yang di...   \n",
       "\n",
       "                                               Token   \n",
       "0  ['pelaksana', 'tugas', 'plt', 'wali', 'kota', ...  \\\n",
       "1  ['seri', 'hp', 'gaming', 'redmi', 'c', 'pantas...   \n",
       "2  ['puluhan', 'rumah', 'di', 'perumahan', 'griya...   \n",
       "3  ['hujan', 'diprediksi', 'akan', 'turun', 'di',...   \n",
       "4  ['pelaku', 'pembunuhan', 'remaja', 'berinisial...   \n",
       "\n",
       "                                            stopword   \n",
       "0  ['pelaksana', 'tugas', 'plt', 'wali', 'kota', ...  \\\n",
       "1  ['seri', 'hp', 'gaming', 'redmi', 'c', 'opsi',...   \n",
       "2  ['puluhan', 'rumah', 'perumahan', 'griya', 'za...   \n",
       "3  ['hujan', 'diprediksi', 'turun', 'kota', 'indo...   \n",
       "4  ['pelaku', 'pembunuhan', 'remaja', 'berinisial...   \n",
       "\n",
       "                                             stemmed    Value  \n",
       "0  laksana tugas plt wali kota cimahi ngatiyana h...  POSITIF  \n",
       "1  seri hp gaming redmi c opsi redmi c tawar laya...   NETRAL  \n",
       "2  puluh rumah rumah griya zavira desa mangkuraky...  NEGATIF  \n",
       "3  hujan prediksi turun kota indonesia senin juli...   NETRAL  \n",
       "4  laku bunuh remaja inisial af temu tewas enas h...  NEGATIF  "
      ]
     },
     "execution_count": 4,
     "metadata": {},
     "output_type": "execute_result"
    }
   ],
   "source": [
    "df.head()"
   ]
  },
  {
   "cell_type": "code",
   "execution_count": 5,
   "metadata": {},
   "outputs": [
    {
     "data": {
      "text/plain": [
       "(150, 5)"
      ]
     },
     "execution_count": 5,
     "metadata": {},
     "output_type": "execute_result"
    }
   ],
   "source": [
    "df.shape"
   ]
  },
  {
   "cell_type": "code",
   "execution_count": 6,
   "metadata": {},
   "outputs": [
    {
     "data": {
      "text/plain": [
       "Value\n",
       "POSITIF    90\n",
       "NETRAL     30\n",
       "NEGATIF    30\n",
       "Name: count, dtype: int64"
      ]
     },
     "execution_count": 6,
     "metadata": {},
     "output_type": "execute_result"
    }
   ],
   "source": [
    "df['Value'].value_counts()"
   ]
  },
  {
   "cell_type": "code",
   "execution_count": 7,
   "metadata": {},
   "outputs": [
    {
     "data": {
      "text/plain": [
       "Text(0, 0.5, 'Jumlah Kategori')"
      ]
     },
     "execution_count": 7,
     "metadata": {},
     "output_type": "execute_result"
    },
    {
     "data": {
      "image/png": "[encoded data removed]",
      "text/plain": [
       "<Figure size 640x480 with 1 Axes>"
      ]
     },
     "metadata": {},
     "output_type": "display_data"
    }
   ],
   "source": [
    "df['Value'].value_counts().plot(kind=\"bar\")\n",
    "\n",
    "mpt.title('Jumlah Kategori Berdasarkan Sentimen')\n",
    "mpt.xlabel('Kategori Sentimen')\n",
    "mpt.ylabel('Jumlah Kategori')"
   ]
  },
  {
   "cell_type": "code",
   "execution_count": 9,
   "metadata": {},
   "outputs": [
    {
     "data": {
      "text/plain": [
       "<matplotlib.legend.Legend at 0x13dfa9d2950>"
      ]
     },
     "execution_count": 9,
     "metadata": {},
     "output_type": "execute_result"
    },
    {
     "data": {
      "image/png": "[encoded data removed]",
      "text/plain": [
       "<Figure size 640x480 with 1 Axes>"
      ]
     },
     "metadata": {},
     "output_type": "display_data"
    }
   ],
   "source": [
    "df['Value'].value_counts().plot(kind='pie')\n",
    "\n",
    "mpt.legend()"
   ]
  },
  {
   "cell_type": "code",
   "execution_count": null,
   "metadata": {},
   "outputs": [],
   "source": []
  }
 ],
 "metadata": {
  "kernelspec": {
   "display_name": "Python 3",
   "language": "python",
   "name": "python3"
  },
  "language_info": {
   "codemirror_mode": {
    "name": "ipython",
    "version": 3
   },
   "file_extension": ".py",
   "mimetype": "text/x-python",
   "name": "python",
   "nbconvert_exporter": "python",
   "pygments_lexer": "ipython3",
   "version": "3.11.3"
  },
  "orig_nbformat": 4
 },
 "nbformat": 4,
 "nbformat_minor": 2
}
