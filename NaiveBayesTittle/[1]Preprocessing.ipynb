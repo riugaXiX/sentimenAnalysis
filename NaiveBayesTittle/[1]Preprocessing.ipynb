{
 "cells": [
  {
   "cell_type": "code",
   "execution_count": 1,
   "metadata": {},
   "outputs": [],
   "source": [
    "import pandas as pd\n",
    "import numpy as np\n",
    "import matplotlib.pyplot as mpt"
   ]
  },
  {
   "cell_type": "code",
   "execution_count": 2,
   "metadata": {},
   "outputs": [
    {
     "data": {
      "text/html": [
       "<div>\n",
       "<style scoped>\n",
       "    .dataframe tbody tr th:only-of-type {\n",
       "        vertical-align: middle;\n",
       "    }\n",
       "\n",
       "    .dataframe tbody tr th {\n",
       "        vertical-align: top;\n",
       "    }\n",
       "\n",
       "    .dataframe thead th {\n",
       "        text-align: right;\n",
       "    }\n",
       "</style>\n",
       "<table border=\"1\" class=\"dataframe\">\n",
       "  <thead>\n",
       "    <tr style=\"text-align: right;\">\n",
       "      <th></th>\n",
       "      <th>title</th>\n",
       "      <th>label</th>\n",
       "    </tr>\n",
       "  </thead>\n",
       "  <tbody>\n",
       "    <tr>\n",
       "      <th>0</th>\n",
       "      <td>Ngatiyana Terjun Langsung Menemui Warga, Menam...</td>\n",
       "      <td>1</td>\n",
       "    </tr>\n",
       "    <tr>\n",
       "      <th>1</th>\n",
       "      <td>Spesifikasi Redmi 10C HP Gaming Murah Rp 1 Jutaan</td>\n",
       "      <td>0</td>\n",
       "    </tr>\n",
       "    <tr>\n",
       "      <th>2</th>\n",
       "      <td>Puluhan Rumah di Perum Griya Zavira Cilawu Ter...</td>\n",
       "      <td>2</td>\n",
       "    </tr>\n",
       "    <tr>\n",
       "      <th>3</th>\n",
       "      <td>Prakiraan Cuaca Kota-kota Besar di Indonesia u...</td>\n",
       "      <td>0</td>\n",
       "    </tr>\n",
       "    <tr>\n",
       "      <th>4</th>\n",
       "      <td>Kurang dari 24 Jam, Pelaku Pembunuh Remaja Dic...</td>\n",
       "      <td>2</td>\n",
       "    </tr>\n",
       "  </tbody>\n",
       "</table>\n",
       "</div>"
      ],
      "text/plain": [
       "                                               title  label\n",
       "0  Ngatiyana Terjun Langsung Menemui Warga, Menam...      1\n",
       "1  Spesifikasi Redmi 10C HP Gaming Murah Rp 1 Jutaan      0\n",
       "2  Puluhan Rumah di Perum Griya Zavira Cilawu Ter...      2\n",
       "3  Prakiraan Cuaca Kota-kota Besar di Indonesia u...      0\n",
       "4  Kurang dari 24 Jam, Pelaku Pembunuh Remaja Dic...      2"
      ]
     },
     "execution_count": 2,
     "metadata": {},
     "output_type": "execute_result"
    }
   ],
   "source": [
    "df = pd.read_excel('../dataset/tittle200.xlsx')\n",
    "df.head()"
   ]
  },
  {
   "cell_type": "markdown",
   "metadata": {},
   "source": [
    "# Case Folding"
   ]
  },
  {
   "cell_type": "code",
   "execution_count": 3,
   "metadata": {},
   "outputs": [],
   "source": [
    "import re\n",
    "def casefolding(kalimat):\n",
    "    kalimat = kalimat.strip()\n",
    "    kalimat = kalimat.lower()\n",
    "    kalimat = re.sub(r'[|?|$|.|!_:\")(-+,)]','', kalimat)\n",
    "    return kalimat"
   ]
  },
  {
   "cell_type": "code",
   "execution_count": 4,
   "metadata": {},
   "outputs": [
    {
     "data": {
      "text/html": [
       "<div>\n",
       "<style scoped>\n",
       "    .dataframe tbody tr th:only-of-type {\n",
       "        vertical-align: middle;\n",
       "    }\n",
       "\n",
       "    .dataframe tbody tr th {\n",
       "        vertical-align: top;\n",
       "    }\n",
       "\n",
       "    .dataframe thead th {\n",
       "        text-align: right;\n",
       "    }\n",
       "</style>\n",
       "<table border=\"1\" class=\"dataframe\">\n",
       "  <thead>\n",
       "    <tr style=\"text-align: right;\">\n",
       "      <th></th>\n",
       "      <th>title</th>\n",
       "      <th>label</th>\n",
       "    </tr>\n",
       "  </thead>\n",
       "  <tbody>\n",
       "    <tr>\n",
       "      <th>0</th>\n",
       "      <td>ngatiyana terjun langsung menemui warga menamp...</td>\n",
       "      <td>1</td>\n",
       "    </tr>\n",
       "    <tr>\n",
       "      <th>1</th>\n",
       "      <td>spesifikasi redmi 10c hp gaming murah rp 1 jutaan</td>\n",
       "      <td>0</td>\n",
       "    </tr>\n",
       "    <tr>\n",
       "      <th>2</th>\n",
       "      <td>puluhan rumah di perum griya zavira cilawu ter...</td>\n",
       "      <td>2</td>\n",
       "    </tr>\n",
       "    <tr>\n",
       "      <th>3</th>\n",
       "      <td>prakiraan cuaca kota-kota besar di indonesia u...</td>\n",
       "      <td>0</td>\n",
       "    </tr>\n",
       "    <tr>\n",
       "      <th>4</th>\n",
       "      <td>kurang dari 24 jam pelaku pembunuh remaja dici...</td>\n",
       "      <td>2</td>\n",
       "    </tr>\n",
       "  </tbody>\n",
       "</table>\n",
       "</div>"
      ],
      "text/plain": [
       "                                               title  label\n",
       "0  ngatiyana terjun langsung menemui warga menamp...      1\n",
       "1  spesifikasi redmi 10c hp gaming murah rp 1 jutaan      0\n",
       "2  puluhan rumah di perum griya zavira cilawu ter...      2\n",
       "3  prakiraan cuaca kota-kota besar di indonesia u...      0\n",
       "4  kurang dari 24 jam pelaku pembunuh remaja dici...      2"
      ]
     },
     "execution_count": 4,
     "metadata": {},
     "output_type": "execute_result"
    }
   ],
   "source": [
    "\n",
    "df['title'] = df['title'].apply(casefolding)\n",
    "df.head()"
   ]
  },
  {
   "cell_type": "markdown",
   "metadata": {},
   "source": [
    "# Tokenizing"
   ]
  },
  {
   "cell_type": "code",
   "execution_count": 5,
   "metadata": {},
   "outputs": [],
   "source": [
    "from nltk.tokenize import RegexpTokenizer\n",
    "regexp = RegexpTokenizer(r'\\w+|$[0-9]+|\\S')"
   ]
  },
  {
   "cell_type": "code",
   "execution_count": 6,
   "metadata": {},
   "outputs": [],
   "source": [
    "token = df[\"title\"].apply(regexp.tokenize)\n",
    "df.insert(df.columns.get_loc(\"label\"),\"Token\", token)"
   ]
  },
  {
   "cell_type": "code",
   "execution_count": 7,
   "metadata": {},
   "outputs": [
    {
     "data": {
      "text/html": [
       "<div>\n",
       "<style scoped>\n",
       "    .dataframe tbody tr th:only-of-type {\n",
       "        vertical-align: middle;\n",
       "    }\n",
       "\n",
       "    .dataframe tbody tr th {\n",
       "        vertical-align: top;\n",
       "    }\n",
       "\n",
       "    .dataframe thead th {\n",
       "        text-align: right;\n",
       "    }\n",
       "</style>\n",
       "<table border=\"1\" class=\"dataframe\">\n",
       "  <thead>\n",
       "    <tr style=\"text-align: right;\">\n",
       "      <th></th>\n",
       "      <th>title</th>\n",
       "      <th>Token</th>\n",
       "      <th>label</th>\n",
       "    </tr>\n",
       "  </thead>\n",
       "  <tbody>\n",
       "    <tr>\n",
       "      <th>0</th>\n",
       "      <td>ngatiyana terjun langsung menemui warga menamp...</td>\n",
       "      <td>[ngatiyana, terjun, langsung, menemui, warga, ...</td>\n",
       "      <td>1</td>\n",
       "    </tr>\n",
       "    <tr>\n",
       "      <th>1</th>\n",
       "      <td>spesifikasi redmi 10c hp gaming murah rp 1 jutaan</td>\n",
       "      <td>[spesifikasi, redmi, 10c, hp, gaming, murah, r...</td>\n",
       "      <td>0</td>\n",
       "    </tr>\n",
       "    <tr>\n",
       "      <th>2</th>\n",
       "      <td>puluhan rumah di perum griya zavira cilawu ter...</td>\n",
       "      <td>[puluhan, rumah, di, perum, griya, zavira, cil...</td>\n",
       "      <td>2</td>\n",
       "    </tr>\n",
       "  </tbody>\n",
       "</table>\n",
       "</div>"
      ],
      "text/plain": [
       "                                               title   \n",
       "0  ngatiyana terjun langsung menemui warga menamp...  \\\n",
       "1  spesifikasi redmi 10c hp gaming murah rp 1 jutaan   \n",
       "2  puluhan rumah di perum griya zavira cilawu ter...   \n",
       "\n",
       "                                               Token  label  \n",
       "0  [ngatiyana, terjun, langsung, menemui, warga, ...      1  \n",
       "1  [spesifikasi, redmi, 10c, hp, gaming, murah, r...      0  \n",
       "2  [puluhan, rumah, di, perum, griya, zavira, cil...      2  "
      ]
     },
     "execution_count": 7,
     "metadata": {},
     "output_type": "execute_result"
    }
   ],
   "source": [
    "df.head(3)"
   ]
  },
  {
   "cell_type": "markdown",
   "metadata": {},
   "source": [
    "# Stop Word"
   ]
  },
  {
   "cell_type": "code",
   "execution_count": 8,
   "metadata": {},
   "outputs": [
    {
     "name": "stderr",
     "output_type": "stream",
     "text": [
      "[nltk_data] Downloading package stopwords to\n",
      "[nltk_data]     C:\\Users\\AdmiN\\AppData\\Roaming\\nltk_data...\n",
      "[nltk_data]   Package stopwords is already up-to-date!\n"
     ]
    },
    {
     "data": {
      "text/plain": [
       "True"
      ]
     },
     "execution_count": 8,
     "metadata": {},
     "output_type": "execute_result"
    }
   ],
   "source": [
    "import nltk as nk \n",
    "nk.download('stopwords')"
   ]
  },
  {
   "cell_type": "code",
   "execution_count": 9,
   "metadata": {},
   "outputs": [],
   "source": [
    "from nltk.corpus import stopwords\n",
    "stopword = stopwords.words('indonesian')\n",
    "txt_stopword = pd.read_csv('../text/stopword.txt', names=['stopword'], header=None)\n",
    "stopword.extend(['wkwk','hahahaha','haha','yang','yoi','yoyoy', 'mm', 'mk', 'bandung', 'subang','wartakinico','galamedianews'])\n",
    "stopword.extend(txt_stopword[\"stopword\"][0].split('\\n'))\n",
    "stopword = set(stopword)\n",
    "\n",
    "def stopwords(text):\n",
    "    text = [word for word in text if word not in stopword]\n",
    "    return text"
   ]
  },
  {
   "cell_type": "code",
   "execution_count": 10,
   "metadata": {},
   "outputs": [],
   "source": [
    "stopword = df['Token'].apply(stopwords)\n",
    "df.insert(df.columns.get_loc(\"label\"),\"stopword\", stopword)"
   ]
  },
  {
   "cell_type": "code",
   "execution_count": 11,
   "metadata": {},
   "outputs": [
    {
     "data": {
      "text/html": [
       "<div>\n",
       "<style scoped>\n",
       "    .dataframe tbody tr th:only-of-type {\n",
       "        vertical-align: middle;\n",
       "    }\n",
       "\n",
       "    .dataframe tbody tr th {\n",
       "        vertical-align: top;\n",
       "    }\n",
       "\n",
       "    .dataframe thead th {\n",
       "        text-align: right;\n",
       "    }\n",
       "</style>\n",
       "<table border=\"1\" class=\"dataframe\">\n",
       "  <thead>\n",
       "    <tr style=\"text-align: right;\">\n",
       "      <th></th>\n",
       "      <th>title</th>\n",
       "      <th>Token</th>\n",
       "      <th>stopword</th>\n",
       "      <th>label</th>\n",
       "    </tr>\n",
       "  </thead>\n",
       "  <tbody>\n",
       "    <tr>\n",
       "      <th>0</th>\n",
       "      <td>ngatiyana terjun langsung menemui warga menamp...</td>\n",
       "      <td>[ngatiyana, terjun, langsung, menemui, warga, ...</td>\n",
       "      <td>[ngatiyana, terjun, langsung, menemui, warga, ...</td>\n",
       "      <td>1</td>\n",
       "    </tr>\n",
       "    <tr>\n",
       "      <th>1</th>\n",
       "      <td>spesifikasi redmi 10c hp gaming murah rp 1 jutaan</td>\n",
       "      <td>[spesifikasi, redmi, 10c, hp, gaming, murah, r...</td>\n",
       "      <td>[spesifikasi, redmi, 10c, hp, gaming, murah, r...</td>\n",
       "      <td>0</td>\n",
       "    </tr>\n",
       "    <tr>\n",
       "      <th>2</th>\n",
       "      <td>puluhan rumah di perum griya zavira cilawu ter...</td>\n",
       "      <td>[puluhan, rumah, di, perum, griya, zavira, cil...</td>\n",
       "      <td>[puluhan, rumah, perum, griya, zavira, cilawu,...</td>\n",
       "      <td>2</td>\n",
       "    </tr>\n",
       "  </tbody>\n",
       "</table>\n",
       "</div>"
      ],
      "text/plain": [
       "                                               title   \n",
       "0  ngatiyana terjun langsung menemui warga menamp...  \\\n",
       "1  spesifikasi redmi 10c hp gaming murah rp 1 jutaan   \n",
       "2  puluhan rumah di perum griya zavira cilawu ter...   \n",
       "\n",
       "                                               Token   \n",
       "0  [ngatiyana, terjun, langsung, menemui, warga, ...  \\\n",
       "1  [spesifikasi, redmi, 10c, hp, gaming, murah, r...   \n",
       "2  [puluhan, rumah, di, perum, griya, zavira, cil...   \n",
       "\n",
       "                                            stopword  label  \n",
       "0  [ngatiyana, terjun, langsung, menemui, warga, ...      1  \n",
       "1  [spesifikasi, redmi, 10c, hp, gaming, murah, r...      0  \n",
       "2  [puluhan, rumah, perum, griya, zavira, cilawu,...      2  "
      ]
     },
     "execution_count": 11,
     "metadata": {},
     "output_type": "execute_result"
    }
   ],
   "source": [
    "df.head(3)"
   ]
  },
  {
   "cell_type": "code",
   "execution_count": 12,
   "metadata": {},
   "outputs": [],
   "source": [
    "from Sastrawi.Stemmer.StemmerFactory import StemmerFactory"
   ]
  },
  {
   "cell_type": "code",
   "execution_count": 13,
   "metadata": {},
   "outputs": [],
   "source": [
    "def stemming(konten):\n",
    "    factory = StemmerFactory()\n",
    "    stemmer = factory.create_stemmer()\n",
    "    do = []\n",
    "    for w in konten:\n",
    "        dt = stemmer.stem(w)\n",
    "        do.append(dt)\n",
    "    \n",
    "    d_clean = []\n",
    "    d_clean = \" \".join(do)\n",
    "    return d_clean"
   ]
  },
  {
   "cell_type": "code",
   "execution_count": 14,
   "metadata": {},
   "outputs": [],
   "source": [
    "stemmed = df['stopword'].apply(stemming)\n",
    "df.insert(df.columns.get_loc(\"label\"),\"stemmed\", stemmed)"
   ]
  },
  {
   "cell_type": "code",
   "execution_count": 15,
   "metadata": {},
   "outputs": [
    {
     "data": {
      "text/html": [
       "<div>\n",
       "<style scoped>\n",
       "    .dataframe tbody tr th:only-of-type {\n",
       "        vertical-align: middle;\n",
       "    }\n",
       "\n",
       "    .dataframe tbody tr th {\n",
       "        vertical-align: top;\n",
       "    }\n",
       "\n",
       "    .dataframe thead th {\n",
       "        text-align: right;\n",
       "    }\n",
       "</style>\n",
       "<table border=\"1\" class=\"dataframe\">\n",
       "  <thead>\n",
       "    <tr style=\"text-align: right;\">\n",
       "      <th></th>\n",
       "      <th>title</th>\n",
       "      <th>Token</th>\n",
       "      <th>stopword</th>\n",
       "      <th>stemmed</th>\n",
       "      <th>label</th>\n",
       "    </tr>\n",
       "  </thead>\n",
       "  <tbody>\n",
       "    <tr>\n",
       "      <th>0</th>\n",
       "      <td>ngatiyana terjun langsung menemui warga menamp...</td>\n",
       "      <td>[ngatiyana, terjun, langsung, menemui, warga, ...</td>\n",
       "      <td>[ngatiyana, terjun, langsung, menemui, warga, ...</td>\n",
       "      <td>ngatiyana terjun langsung temu warga tampung a...</td>\n",
       "      <td>1</td>\n",
       "    </tr>\n",
       "    <tr>\n",
       "      <th>1</th>\n",
       "      <td>spesifikasi redmi 10c hp gaming murah rp 1 jutaan</td>\n",
       "      <td>[spesifikasi, redmi, 10c, hp, gaming, murah, r...</td>\n",
       "      <td>[spesifikasi, redmi, 10c, hp, gaming, murah, r...</td>\n",
       "      <td>spesifikasi redmi 10c hp gaming murah rp 1 juta</td>\n",
       "      <td>0</td>\n",
       "    </tr>\n",
       "    <tr>\n",
       "      <th>2</th>\n",
       "      <td>puluhan rumah di perum griya zavira cilawu ter...</td>\n",
       "      <td>[puluhan, rumah, di, perum, griya, zavira, cil...</td>\n",
       "      <td>[puluhan, rumah, perum, griya, zavira, cilawu,...</td>\n",
       "      <td>puluh rumah perum griya zavira cilawu ancam ba...</td>\n",
       "      <td>2</td>\n",
       "    </tr>\n",
       "    <tr>\n",
       "      <th>3</th>\n",
       "      <td>prakiraan cuaca kota-kota besar di indonesia u...</td>\n",
       "      <td>[prakiraan, cuaca, kota, -, kota, besar, di, i...</td>\n",
       "      <td>[prakiraan, cuaca, kota, -, kota, indonesia, s...</td>\n",
       "      <td>prakira cuaca kota - kota indonesia senin 25 j...</td>\n",
       "      <td>0</td>\n",
       "    </tr>\n",
       "    <tr>\n",
       "      <th>4</th>\n",
       "      <td>kurang dari 24 jam pelaku pembunuh remaja dici...</td>\n",
       "      <td>[kurang, dari, 24, jam, pelaku, pembunuh, rema...</td>\n",
       "      <td>[24, jam, pelaku, pembunuh, remaja, diciduk, c...</td>\n",
       "      <td>24 jam laku bunuh remaja ciduk coba lari</td>\n",
       "      <td>2</td>\n",
       "    </tr>\n",
       "  </tbody>\n",
       "</table>\n",
       "</div>"
      ],
      "text/plain": [
       "                                               title   \n",
       "0  ngatiyana terjun langsung menemui warga menamp...  \\\n",
       "1  spesifikasi redmi 10c hp gaming murah rp 1 jutaan   \n",
       "2  puluhan rumah di perum griya zavira cilawu ter...   \n",
       "3  prakiraan cuaca kota-kota besar di indonesia u...   \n",
       "4  kurang dari 24 jam pelaku pembunuh remaja dici...   \n",
       "\n",
       "                                               Token   \n",
       "0  [ngatiyana, terjun, langsung, menemui, warga, ...  \\\n",
       "1  [spesifikasi, redmi, 10c, hp, gaming, murah, r...   \n",
       "2  [puluhan, rumah, di, perum, griya, zavira, cil...   \n",
       "3  [prakiraan, cuaca, kota, -, kota, besar, di, i...   \n",
       "4  [kurang, dari, 24, jam, pelaku, pembunuh, rema...   \n",
       "\n",
       "                                            stopword   \n",
       "0  [ngatiyana, terjun, langsung, menemui, warga, ...  \\\n",
       "1  [spesifikasi, redmi, 10c, hp, gaming, murah, r...   \n",
       "2  [puluhan, rumah, perum, griya, zavira, cilawu,...   \n",
       "3  [prakiraan, cuaca, kota, -, kota, indonesia, s...   \n",
       "4  [24, jam, pelaku, pembunuh, remaja, diciduk, c...   \n",
       "\n",
       "                                             stemmed  label  \n",
       "0  ngatiyana terjun langsung temu warga tampung a...      1  \n",
       "1    spesifikasi redmi 10c hp gaming murah rp 1 juta      0  \n",
       "2  puluh rumah perum griya zavira cilawu ancam ba...      2  \n",
       "3  prakira cuaca kota - kota indonesia senin 25 j...      0  \n",
       "4           24 jam laku bunuh remaja ciduk coba lari      2  "
      ]
     },
     "execution_count": 15,
     "metadata": {},
     "output_type": "execute_result"
    }
   ],
   "source": [
    "df.head()"
   ]
  },
  {
   "cell_type": "code",
   "execution_count": 16,
   "metadata": {},
   "outputs": [],
   "source": [
    "df.to_csv('../dataset/titleDataClean200.csv', index=False, header=True)"
   ]
  },
  {
   "cell_type": "code",
   "execution_count": null,
   "metadata": {},
   "outputs": [],
   "source": []
  }
 ],
 "metadata": {
  "kernelspec": {
   "display_name": "Python 3",
   "language": "python",
   "name": "python3"
  },
  "language_info": {
   "codemirror_mode": {
    "name": "ipython",
    "version": 3
   },
   "file_extension": ".py",
   "mimetype": "text/x-python",
   "name": "python",
   "nbconvert_exporter": "python",
   "pygments_lexer": "ipython3",
   "version": "3.11.3"
  },
  "orig_nbformat": 4
 },
 "nbformat": 4,
 "nbformat_minor": 2
}
