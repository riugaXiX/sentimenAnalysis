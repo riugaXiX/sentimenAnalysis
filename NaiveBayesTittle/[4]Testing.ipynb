{
 "cells": [
  {
   "cell_type": "code",
   "execution_count": 2,
   "metadata": {},
   "outputs": [],
   "source": [
    "import pandas as pd\n",
    "import joblib\n",
    "from sklearn.feature_extraction.text import CountVectorizer"
   ]
  },
  {
   "cell_type": "code",
   "execution_count": 12,
   "metadata": {},
   "outputs": [
    {
     "data": {
      "text/html": [
       "<div>\n",
       "<style scoped>\n",
       "    .dataframe tbody tr th:only-of-type {\n",
       "        vertical-align: middle;\n",
       "    }\n",
       "\n",
       "    .dataframe tbody tr th {\n",
       "        vertical-align: top;\n",
       "    }\n",
       "\n",
       "    .dataframe thead th {\n",
       "        text-align: right;\n",
       "    }\n",
       "</style>\n",
       "<table border=\"1\" class=\"dataframe\">\n",
       "  <thead>\n",
       "    <tr style=\"text-align: right;\">\n",
       "      <th></th>\n",
       "      <th>Unnamed: 0</th>\n",
       "      <th>content</th>\n",
       "      <th>Konten</th>\n",
       "      <th>Token</th>\n",
       "      <th>stopword</th>\n",
       "      <th>stemmed</th>\n",
       "    </tr>\n",
       "  </thead>\n",
       "  <tbody>\n",
       "    <tr>\n",
       "      <th>0</th>\n",
       "      <td>0</td>\n",
       "      <td>GALAMEDIANEWS - Pelaksana Tugas (Plt.) Wali Ko...</td>\n",
       "      <td>pelaksana tugas plt wali kota cimahi ngatiyana...</td>\n",
       "      <td>['pelaksana', 'tugas', 'plt', 'wali', 'kota', ...</td>\n",
       "      <td>['pelaksana', 'tugas', 'plt', 'wali', 'kota', ...</td>\n",
       "      <td>['laksana', 'tugas', 'plt', 'wali', 'kota', 'c...</td>\n",
       "    </tr>\n",
       "    <tr>\n",
       "      <th>1</th>\n",
       "      <td>1</td>\n",
       "      <td>GALAMEDIANEWS - Seri HP gaming Redmi 10C panta...</td>\n",
       "      <td>seri hp gaming redmi c pantas jadi opsi redmi ...</td>\n",
       "      <td>['seri', 'hp', 'gaming', 'redmi', 'c', 'pantas...</td>\n",
       "      <td>['seri', 'hp', 'gaming', 'redmi', 'c', 'opsi',...</td>\n",
       "      <td>['seri', 'hp', 'gaming', 'redmi', 'c', 'opsi',...</td>\n",
       "    </tr>\n",
       "    <tr>\n",
       "      <th>2</th>\n",
       "      <td>2</td>\n",
       "      <td>GALAMEDIANEWS - Puluhan rumah di Perumahan Gri...</td>\n",
       "      <td>puluhan rumah di perumahan griya zavira desa m...</td>\n",
       "      <td>['puluhan', 'rumah', 'di', 'perumahan', 'griya...</td>\n",
       "      <td>['puluhan', 'rumah', 'perumahan', 'griya', 'za...</td>\n",
       "      <td>['puluh', 'rumah', 'rumah', 'griya', 'zavira',...</td>\n",
       "    </tr>\n",
       "    <tr>\n",
       "      <th>3</th>\n",
       "      <td>3</td>\n",
       "      <td>GALAMEDIANEWS - Hujan diprediksi akan turun di...</td>\n",
       "      <td>hujan diprediksi akan turun di sejumlah kota b...</td>\n",
       "      <td>['hujan', 'diprediksi', 'akan', 'turun', 'di',...</td>\n",
       "      <td>['hujan', 'diprediksi', 'turun', 'kota', 'indo...</td>\n",
       "      <td>['hujan', 'prediksi', 'turun', 'kota', 'indone...</td>\n",
       "    </tr>\n",
       "    <tr>\n",
       "      <th>4</th>\n",
       "      <td>4</td>\n",
       "      <td>GALAMEDIANEWS - Pelaku pembunuhan remaja berin...</td>\n",
       "      <td>pelaku pembunuhan remaja berinisial af yang di...</td>\n",
       "      <td>['pelaku', 'pembunuhan', 'remaja', 'berinisial...</td>\n",
       "      <td>['pelaku', 'pembunuhan', 'remaja', 'berinisial...</td>\n",
       "      <td>['laku', 'bunuh', 'remaja', 'inisial', 'af', '...</td>\n",
       "    </tr>\n",
       "  </tbody>\n",
       "</table>\n",
       "</div>"
      ],
      "text/plain": [
       "   Unnamed: 0                                            content   \n",
       "0           0  GALAMEDIANEWS - Pelaksana Tugas (Plt.) Wali Ko...  \\\n",
       "1           1  GALAMEDIANEWS - Seri HP gaming Redmi 10C panta...   \n",
       "2           2  GALAMEDIANEWS - Puluhan rumah di Perumahan Gri...   \n",
       "3           3  GALAMEDIANEWS - Hujan diprediksi akan turun di...   \n",
       "4           4  GALAMEDIANEWS - Pelaku pembunuhan remaja berin...   \n",
       "\n",
       "                                              Konten   \n",
       "0  pelaksana tugas plt wali kota cimahi ngatiyana...  \\\n",
       "1  seri hp gaming redmi c pantas jadi opsi redmi ...   \n",
       "2  puluhan rumah di perumahan griya zavira desa m...   \n",
       "3  hujan diprediksi akan turun di sejumlah kota b...   \n",
       "4  pelaku pembunuhan remaja berinisial af yang di...   \n",
       "\n",
       "                                               Token   \n",
       "0  ['pelaksana', 'tugas', 'plt', 'wali', 'kota', ...  \\\n",
       "1  ['seri', 'hp', 'gaming', 'redmi', 'c', 'pantas...   \n",
       "2  ['puluhan', 'rumah', 'di', 'perumahan', 'griya...   \n",
       "3  ['hujan', 'diprediksi', 'akan', 'turun', 'di',...   \n",
       "4  ['pelaku', 'pembunuhan', 'remaja', 'berinisial...   \n",
       "\n",
       "                                            stopword   \n",
       "0  ['pelaksana', 'tugas', 'plt', 'wali', 'kota', ...  \\\n",
       "1  ['seri', 'hp', 'gaming', 'redmi', 'c', 'opsi',...   \n",
       "2  ['puluhan', 'rumah', 'perumahan', 'griya', 'za...   \n",
       "3  ['hujan', 'diprediksi', 'turun', 'kota', 'indo...   \n",
       "4  ['pelaku', 'pembunuhan', 'remaja', 'berinisial...   \n",
       "\n",
       "                                             stemmed  \n",
       "0  ['laksana', 'tugas', 'plt', 'wali', 'kota', 'c...  \n",
       "1  ['seri', 'hp', 'gaming', 'redmi', 'c', 'opsi',...  \n",
       "2  ['puluh', 'rumah', 'rumah', 'griya', 'zavira',...  \n",
       "3  ['hujan', 'prediksi', 'turun', 'kota', 'indone...  \n",
       "4  ['laku', 'bunuh', 'remaja', 'inisial', 'af', '...  "
      ]
     },
     "execution_count": 12,
     "metadata": {},
     "output_type": "execute_result"
    }
   ],
   "source": [
    "df = pd.read_csv('../dataset/preprocessing1000.csv')\n",
    "df.head()\n"
   ]
  },
  {
   "cell_type": "code",
   "execution_count": 15,
   "metadata": {},
   "outputs": [],
   "source": [
    "df.dropna(inplace=True)"
   ]
  },
  {
   "cell_type": "code",
   "execution_count": 16,
   "metadata": {},
   "outputs": [],
   "source": [
    "loaded_model = joblib.load('../outputModel/svmTermPresenceJl.pkl')"
   ]
  },
  {
   "cell_type": "code",
   "execution_count": 17,
   "metadata": {},
   "outputs": [],
   "source": [
    "vectorizertp = CountVectorizer(binary=True, max_features=6152)"
   ]
  },
  {
   "cell_type": "code",
   "execution_count": 18,
   "metadata": {},
   "outputs": [],
   "source": [
    "x_new_dataset_tfidf = vectorizertp.fit_transform(df['Konten'])  # Replace x_new_dataset with your new dataset\n"
   ]
  },
  {
   "cell_type": "code",
   "execution_count": 11,
   "metadata": {},
   "outputs": [],
   "source": [
    "# x = vectorizertp.transform(x_new_dataset_tfidf)"
   ]
  },
  {
   "cell_type": "code",
   "execution_count": 19,
   "metadata": {},
   "outputs": [],
   "source": [
    "prediction = loaded_model.predict(x_new_dataset_tfidf)"
   ]
  },
  {
   "cell_type": "markdown",
   "metadata": {},
   "source": []
  },
  {
   "cell_type": "code",
   "execution_count": 20,
   "metadata": {},
   "outputs": [
    {
     "data": {
      "text/plain": [
       "994"
      ]
     },
     "execution_count": 20,
     "metadata": {},
     "output_type": "execute_result"
    }
   ],
   "source": [
    "len(prediction)"
   ]
  },
  {
   "cell_type": "code",
   "execution_count": 21,
   "metadata": {},
   "outputs": [
    {
     "name": "stdout",
     "output_type": "stream",
     "text": [
      "[0 0 1 0 1 0 1 1 0 0 1 0 0 0 0 0 0 1 1 0 0 0 1 0 1 0 1 0 0 0 0 0 0 0 0 1 0\n",
      " 0 1 1 0 0 0 1 0 1 0 1 1 0 0 1 1 0 1 0 1 0 0 0 0 0 1 0 0 1 1 1 0 0 1 0 1 1\n",
      " 1 0 1 1 0 1 0 1 0 0 1 1 0 0 0 0 1 0 1 1 0 0 0 0 1 0 0 1 0 0 1 1 0 0 1 0 0\n",
      " 0 1 0 0 0 0 0 0 0 0 0 0 0 0 0 0 0 0 0 0 0 1 1 0 0 0 1 0 0 0 0 0 0 0 0 0 0\n",
      " 0 0 0 1 0 1 0 1 1 0 1 1 0 0 1 0 1 0 1 1 0 0 1 0 0 0 1 0 0 0 0 0 0 0 1 0 0\n",
      " 1 0 0 1 0 0 0 0 0 0 0 1 0 0 1 0 0 0 1 0 1 0 0 1 0 0 1 1 1 0 0 0 1 0 0 1 0\n",
      " 1 0 0 0 0 1 1 1 1 0 0 0 0 0 0 0 1 1 0 1 1 0 0 0 1 0 1 0 0 1 0 0 1 1 1 0 0\n",
      " 1 0 0 0 1 1 0 0 0 1 0 0 0 1 1 0 0 0 0 0 0 0 0 0 0 0 1 0 0 1 0 1 0 1 1 0 0\n",
      " 0 1 1 1 0 1 1 0 0 0 0 0 0 0 1 0 0 1 1 0 0 0 0 0 1 0 0 1 0 0 0 1 0 1 0 1 0\n",
      " 1 0 1 0 1 1 0 1 1 1 1 0 1 0 0 0 1 1 0 1 0 0 1 0 0 0 0 0 1 0 1 1 1 1 0 0 0\n",
      " 0 0 0 1 1 0 0 1 0 0 1 1 1 0 1 0 1 1 1 1 0 1 1 0 1 0 0 0 0 0 1 1 1 1 1 0 0\n",
      " 1 1 0 0 0 0 0 1 0 0 1 0 0 0 1 1 0 0 1 0 1 0 0 0 0 0 1 0 0 1 0 1 0 1 1 0 0\n",
      " 1 0 0 1 0 0 1 0 0 0 0 1 0 0 0 1 0 0 0 0 0 1 1 0 1 0 0 0 1 0 0 0 1 0 1 0 1\n",
      " 0 1 1 0 0 0 0 1 0 0 1 1 1 0 0 1 1 1 1 0 0 0 0 0 0 0 1 1 1 0 0 0 0 0 0 0 0\n",
      " 1 0 1 0 1 0 1 0 0 0 1 0 1 0 0 0 0 0 0 0 0 0 0 0 1 0 0 1 0 0 0 0 1 1 0 0 0\n",
      " 0 0 0 0 1 1 1 1 0 0 0 1 0 0 0 1 0 1 0 0 0 0 0 0 0 0 0 0 1 1 0 1 1 0 0 0 1\n",
      " 0 0 0 0 1 1 0 1 0 0 0 0 1 1 0 0 0 0 1 1 0 0 0 0 0 0 0 0 0 0 1 1 1 1 0 0 0\n",
      " 1 1 0 0 0 1 0 0 0 1 1 0 0 0 0 0 0 1 1 0 0 1 1 0 1 0 1 1 1 0 1 0 0 0 1 0 0\n",
      " 0 1 0 0 1 1 1 0 1 0 0 0 0 1 0 0 0 1 1 1 0 0 1 0 0 0 1 0 0 1 0 1 0 1 1 0 0\n",
      " 0 1 1 0 0 0 0 0 0 1 0 1 0 0 1 0 0 0 0 0 0 0 0 1 0 0 0 1 0 0 0 1 0 1 0 0 1\n",
      " 0 0 0 1 1 0 1 0 0 0 0 0 0 1 0 1 1 0 0 0 1 0 0 0 1 0 1 0 0 0 0 1 1 0 1 0 0\n",
      " 1 0 1 0 0 0 0 0 0 0 0 0 0 0 0 0 1 1 1 0 0 0 1 0 1 1 0 0 1 0 1 0 1 0 0 0 0\n",
      " 0 1 1 0 1 0 1 1 1 1 0 0 1 1 0 0 0 0 0 0 1 0 1 1 0 1 1 1 1 0 0 1 0 0 1 0 1\n",
      " 1 0 1 0 1 1 0 0 0 1 0 0 0 1 0 0 0 1 1 0 0 0 0 0 1 0 0 0 1 0 0 0 0 0 1 0 1\n",
      " 0 0 0 1 0 1 0 0 0 0 1 0 0 0 0 0 1 0 0 0 0 0 0 0 0 0 0 0 1 0 0 0 0 0 0 0 0\n",
      " 1 0 0 1 0 0 0 0 0 0 1 0 0 0 1 0 0 0 0 0 0 1 0 0 0 0 0 0 0 0 0 0 1 0 0 0 1\n",
      " 1 0 1 0 1 0 0 1 0 1 1 0 0 1 0 0 0 0 0 0 0 0 1 0 0 0 0 0 0 1 1 0]\n"
     ]
    }
   ],
   "source": [
    "print(prediction)"
   ]
  },
  {
   "cell_type": "code",
   "execution_count": 22,
   "metadata": {},
   "outputs": [
    {
     "data": {
      "text/plain": [
       "Unnamed: 0                                                    2\n",
       "content       GALAMEDIANEWS - Puluhan rumah di Perumahan Gri...\n",
       "Konten        puluhan rumah di perumahan griya zavira desa m...\n",
       "Token         ['puluhan', 'rumah', 'di', 'perumahan', 'griya...\n",
       "stopword      ['puluhan', 'rumah', 'perumahan', 'griya', 'za...\n",
       "stemmed       ['puluh', 'rumah', 'rumah', 'griya', 'zavira',...\n",
       "Name: 2, dtype: object"
      ]
     },
     "execution_count": 22,
     "metadata": {},
     "output_type": "execute_result"
    }
   ],
   "source": [
    "df['Konten'].iloc[2]"
   ]
  },
  {
   "cell_type": "code",
   "execution_count": null,
   "metadata": {},
   "outputs": [],
   "source": []
  }
 ],
 "metadata": {
  "kernelspec": {
   "display_name": "Python 3",
   "language": "python",
   "name": "python3"
  },
  "language_info": {
   "codemirror_mode": {
    "name": "ipython",
    "version": 3
   },
   "file_extension": ".py",
   "mimetype": "text/x-python",
   "name": "python",
   "nbconvert_exporter": "python",
   "pygments_lexer": "ipython3",
   "version": "3.11.3"
  },
  "orig_nbformat": 4
 },
 "nbformat": 4,
 "nbformat_minor": 2
}
