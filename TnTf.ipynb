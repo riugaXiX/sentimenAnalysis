{
 "cells": [
  {
   "cell_type": "code",
   "execution_count": 1,
   "metadata": {},
   "outputs": [],
   "source": [
    "import pandas as pd \n",
    "import numpy as np "
   ]
  },
  {
   "cell_type": "code",
   "execution_count": 3,
   "metadata": {},
   "outputs": [],
   "source": [
    "df = pd.read_csv('dataset/preprocessing1000.csv')"
   ]
  },
  {
   "cell_type": "code",
   "execution_count": 6,
   "metadata": {},
   "outputs": [
    {
     "data": {
      "text/plain": [
       "'pelaksana tugas plt wali kota cimahi ngatiyana menghadiri kegiatan pembinaan kelembagaan dan aspirasi warga kelurahan cimahi kecamatan cimahi tengah yang berlangsung di gedung pusat kegiatan guru pkg sdn cimahi mandiri jalan djulaeha karmita cimahi senin juli kegiatan tersebut salah satunya untuk menampung aspirasi dari masyarakat kemudian dibahas dan ditindaklanjuti oleh pemerintah kota pemkot cimahi ini kegiatan pembinaan terhadap kelembagaan masyarakat yang ada di kelurahan cimahi kita menerima aspirasi apa yang diinginkan masyarakat sehingga untuk perbaikanperbaikan ke depan ini salah satunya untuk menghidupkan bagaimana keinginan masyarakat kita tampung kita bahas dan nanti kita tindaklanjuti ungkap ngatiyana baca juga viral seorang pria tergeletak di jalanan jogja suporter persis solo bentrok dengan warga pihaknya sengaja mengadakan kegiatan tersebut agar bisa langsung menerima masukan dan aspirasi dari masyarakat kenapa seperti ini kita lakukan karena kalau kita program itu tidak keluar dari aspirasi masyarakat nanti tidak tepat sasaran sehingga aspirasi inilah kita butuhkan dari masyarakat ide gagasan dan sebagainya dibahas di pemerinyah sehingga nanti akan menjadikan hasil yang maksimal bebernya menurut ngatiyana dalam kegiatan tersebut juga pihaknya menyampaikan beberapa program yang sedang berjalan di kota cimahi baca juga pad retribusi parkir minim ini yang akan dilakukan bapenda kbb dalam kegiatan ini juga kita sampaikan informasi barangkali masyarakat belum mengetahui bahwa pemerintah kota cimahi sudah mengadakan salah satunya program bantuan atau santunan kematian bagi keluarga yang tidak mampu baik yag terdapat dalam dtks data terpadu kesejahteraan sosial maupun yang belum terdapat di data dtks selama ada keterangan dari rt rw bahwa ini tidak mampu akan diberikan santunan kematian bagi masyarakat berbasis ktp cimahi dan orang yang tidak mampu tuturnya program lain yang sedang digulirkan pemkot cimahi adalah spp gratis bagi keluarga yang tidak mampu dan bagi siswa tidak mampu yang masuk smp swasta spp bagi smp swasta dan bagi keluarga yang tidak mampu adalah gratis karena dibayar oleh pemerintah kota cimahi itu salah satunya adalah penekanan imbauan buat masyarakat agar tahu tentang program kita sebutnya baca juga link live streaming persikabo vs persebaya surabaya aji santoso nyatakan siap tempur terkait tenaga kerja kata ngatiyana dinas tenaga kerja disnaker kota cimahi saat ini sedang menghimpun lagi ketenagakerjaan bagi masyarakat yang belum bekerja dan mau dipekerjakan di perusahaanperusahaan yang ada di kota cimahi ini adalah upaya bagaimana mengurangi pengangguran di kota cimah terkahir saya sampaikan penguatan kepada masyarakat bahwa kita cinta nkri kita harus hafal dan bisa mengimplementasikan tentang pancasila tegas ngatiyana'"
      ]
     },
     "execution_count": 6,
     "metadata": {},
     "output_type": "execute_result"
    }
   ],
   "source": [
    "df['Konten'].iloc[0]"
   ]
  },
  {
   "cell_type": "code",
   "execution_count": null,
   "metadata": {},
   "outputs": [],
   "source": []
  }
 ],
 "metadata": {
  "kernelspec": {
   "display_name": "Python 3",
   "language": "python",
   "name": "python3"
  },
  "language_info": {
   "codemirror_mode": {
    "name": "ipython",
    "version": 3
   },
   "file_extension": ".py",
   "mimetype": "text/x-python",
   "name": "python",
   "nbconvert_exporter": "python",
   "pygments_lexer": "ipython3",
   "version": "3.11.3"
  },
  "orig_nbformat": 4
 },
 "nbformat": 4,
 "nbformat_minor": 2
}
