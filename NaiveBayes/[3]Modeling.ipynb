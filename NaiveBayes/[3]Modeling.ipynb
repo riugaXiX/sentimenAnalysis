{
 "cells": [
  {
   "cell_type": "markdown",
   "metadata": {},
   "source": [
    "# Importing Library And Data"
   ]
  },
  {
   "cell_type": "code",
   "execution_count": 2,
   "metadata": {},
   "outputs": [],
   "source": [
    "import pandas as pd\n",
    "import numpy as np\n",
    "import matplotlib.pyplot as mpt"
   ]
  },
  {
   "cell_type": "code",
   "execution_count": 42,
   "metadata": {},
   "outputs": [
    {
     "data": {
      "text/plain": [
       "(150, 5)"
      ]
     },
     "execution_count": 42,
     "metadata": {},
     "output_type": "execute_result"
    }
   ],
   "source": [
    "df = pd.read_csv('../dataset/data_clean150.csv')\n",
    "df.shape"
   ]
  },
  {
   "cell_type": "code",
   "execution_count": 4,
   "metadata": {},
   "outputs": [
    {
     "data": {
      "text/plain": [
       "Konten              object\n",
       "Token               object\n",
       "stopword            object\n",
       "stemmed     string[python]\n",
       "Value             category\n",
       "dtype: object"
      ]
     },
     "execution_count": 4,
     "metadata": {},
     "output_type": "execute_result"
    }
   ],
   "source": [
    "df = df.astype({'Value' : 'category'})\n",
    "df = df.astype({'stemmed' : 'string'})\n",
    "df.dtypes"
   ]
  },
  {
   "cell_type": "markdown",
   "metadata": {},
   "source": [
    "# Feature Extraction With TF-IDF"
   ]
  },
  {
   "cell_type": "code",
   "execution_count": 30,
   "metadata": {},
   "outputs": [],
   "source": [
    "from sklearn.feature_extraction.text import TfidfVectorizer\n",
    "from sklearn.feature_extraction.text import CountVectorizer\n",
    "\n",
    "tf = TfidfVectorizer()\n",
    "text_tf = tf.fit_transform(df['stemmed'])"
   ]
  },
  {
   "cell_type": "code",
   "execution_count": 31,
   "metadata": {},
   "outputs": [],
   "source": [
    "x = df['stemmed']\n",
    "y = df['Value']"
   ]
  },
  {
   "cell_type": "markdown",
   "metadata": {},
   "source": [
    "# Split Data"
   ]
  },
  {
   "cell_type": "code",
   "execution_count": 32,
   "metadata": {},
   "outputs": [],
   "source": [
    "from sklearn.model_selection import train_test_split\n",
    "\n",
    "x_train, x_test, y_train, y_test = train_test_split(text_tf, df['Value'], test_size=0.2, random_state=5)"
   ]
  },
  {
   "cell_type": "code",
   "execution_count": 33,
   "metadata": {},
   "outputs": [],
   "source": [
    "# tf = TfidfVectorizer()\n",
    "\n",
    "# ctmTr = tf.fit_transform(x_train) \n",
    "# X_test_dtm = tf.transform(x_test)\n"
   ]
  },
  {
   "cell_type": "code",
   "execution_count": 34,
   "metadata": {},
   "outputs": [],
   "source": [
    "from sklearn.metrics import classification_report, confusion_matrix, accuracy_score, f1_score, precision_score, recall_score\n",
    "import sklearn.naive_bayes as nb\n",
    "\n",
    "clf = nb.MultinomialNB().fit(x_train, y_train)\n",
    "predicted_clf = clf.predict(x_test)"
   ]
  },
  {
   "cell_type": "code",
   "execution_count": 35,
   "metadata": {},
   "outputs": [
    {
     "name": "stdout",
     "output_type": "stream",
     "text": [
      "MultinomialNB Accuracy:  0.7\n",
      "MultinomialNB Precision:  0.5358024691358025\n",
      "MultinomialNB Recall:  0.7\n",
      "MultinomialNB f1_score:  0.6056737588652482\n",
      "Confussion matrix: \n",
      " [[ 0  0  7]\n",
      " [ 0  2  1]\n",
      " [ 0  1 19]]\n",
      "===============================================================\n",
      "              precision    recall  f1-score   support\n",
      "\n",
      "     NEGATIF       0.00      0.00      0.00         7\n",
      "      NETRAL       0.67      0.67      0.67         3\n",
      "     POSITIF       0.70      0.95      0.81        20\n",
      "\n",
      "    accuracy                           0.70        30\n",
      "   macro avg       0.46      0.54      0.49        30\n",
      "weighted avg       0.54      0.70      0.61        30\n",
      "\n"
     ]
    },
    {
     "name": "stderr",
     "output_type": "stream",
     "text": [
      "C:\\Users\\AdmiN\\AppData\\Local\\Packages\\PythonSoftwareFoundation.Python.3.11_qbz5n2kfra8p0\\LocalCache\\local-packages\\Python311\\site-packages\\sklearn\\metrics\\_classification.py:1469: UndefinedMetricWarning: Precision is ill-defined and being set to 0.0 in labels with no predicted samples. Use `zero_division` parameter to control this behavior.\n",
      "  _warn_prf(average, modifier, msg_start, len(result))\n"
     ]
    }
   ],
   "source": [
    "print(\"MultinomialNB Accuracy: \", accuracy_score(y_test, predicted_clf))\n",
    "print(\"MultinomialNB Precision: \", precision_score(y_test, predicted_clf, average='weighted'))\n",
    "print(\"MultinomialNB Recall: \", recall_score(y_test, predicted_clf, average='weighted'))\n",
    "print(\"MultinomialNB f1_score: \", f1_score(y_test, predicted_clf, average='weighted'))\n",
    "\n",
    "\n",
    "print(f\"Confussion matrix: \\n {confusion_matrix(y_test,predicted_clf)}\")\n",
    "print(\"===============================================================\")\n",
    "print(classification_report(y_test, predicted_clf, zero_division=0))"
   ]
  },
  {
   "cell_type": "markdown",
   "metadata": {},
   "source": [
    "# Save Model And Try to reuse it"
   ]
  },
  {
   "cell_type": "markdown",
   "metadata": {},
   "source": [
    "## Using Pickle"
   ]
  },
  {
   "cell_type": "code",
   "execution_count": 11,
   "metadata": {},
   "outputs": [],
   "source": [
    "import joblib as jl\n",
    "import pickle"
   ]
  },
  {
   "cell_type": "code",
   "execution_count": 12,
   "metadata": {},
   "outputs": [],
   "source": [
    "with open('../outputModel/modelNaiveBayes', 'wb') as f:\n",
    "    pickle.dump(clf, f)"
   ]
  },
  {
   "cell_type": "code",
   "execution_count": 13,
   "metadata": {},
   "outputs": [],
   "source": [
    "with open('../outputModel/modelNaiveBayes', 'rb') as f:\n",
    "    model = pickle.load(f)"
   ]
  },
  {
   "cell_type": "code",
   "execution_count": 14,
   "metadata": {},
   "outputs": [],
   "source": [
    "usingModel = model.predict(x_test)\n"
   ]
  },
  {
   "cell_type": "code",
   "execution_count": 15,
   "metadata": {},
   "outputs": [
    {
     "name": "stdout",
     "output_type": "stream",
     "text": [
      "0.7\n"
     ]
    }
   ],
   "source": [
    "print(accuracy_score(y_test, usingModel))"
   ]
  },
  {
   "cell_type": "markdown",
   "metadata": {},
   "source": [
    "# Using Joblib"
   ]
  },
  {
   "cell_type": "code",
   "execution_count": 27,
   "metadata": {},
   "outputs": [
    {
     "data": {
      "text/plain": [
       "['../outputModel/modelNaiveBayesJl.joblib']"
      ]
     },
     "execution_count": 27,
     "metadata": {},
     "output_type": "execute_result"
    }
   ],
   "source": [
    "jl.dump(clf,'../outputModel/modelNaiveBayesJl.joblib')"
   ]
  },
  {
   "cell_type": "code",
   "execution_count": 46,
   "metadata": {},
   "outputs": [],
   "source": [
    "classifier = jl.load('../outputModel/modelNaiveBayesJl.pkl')"
   ]
  },
  {
   "cell_type": "code",
   "execution_count": 60,
   "metadata": {},
   "outputs": [
    {
     "data": {
      "text/plain": [
       "(150, 5600)"
      ]
     },
     "execution_count": 60,
     "metadata": {},
     "output_type": "execute_result"
    }
   ],
   "source": [
    "sentence = [['Seorang anak membunuh kakanya sendiri karna tidak di berikan remote TV']]\n",
    "tf = TfidfVectorizer()\n",
    "vect = tf.fit_transform(df['stemmed'])\n",
    "vect.shape"
   ]
  },
  {
   "cell_type": "code",
   "execution_count": 54,
   "metadata": {},
   "outputs": [],
   "source": [
    "usingmodel = classifier.predict(text_tf)"
   ]
  },
  {
   "cell_type": "code",
   "execution_count": 55,
   "metadata": {},
   "outputs": [
    {
     "name": "stdout",
     "output_type": "stream",
     "text": [
      "['POSITIF' 'POSITIF' 'POSITIF' 'POSITIF' 'POSITIF' 'POSITIF' 'POSITIF'\n",
      " 'POSITIF' 'NETRAL' 'POSITIF' 'NETRAL' 'POSITIF' 'POSITIF' 'POSITIF'\n",
      " 'POSITIF' 'POSITIF' 'POSITIF' 'POSITIF' 'POSITIF' 'NETRAL' 'POSITIF'\n",
      " 'POSITIF' 'POSITIF' 'POSITIF' 'POSITIF' 'POSITIF' 'POSITIF' 'POSITIF'\n",
      " 'POSITIF' 'POSITIF']\n"
     ]
    }
   ],
   "source": [
    "print(usingModel)"
   ]
  },
  {
   "cell_type": "code",
   "execution_count": 56,
   "metadata": {},
   "outputs": [
    {
     "name": "stdout",
     "output_type": "stream",
     "text": [
      "30\n"
     ]
    }
   ],
   "source": [
    "print(len(usingModel))"
   ]
  },
  {
   "cell_type": "code",
   "execution_count": null,
   "metadata": {},
   "outputs": [],
   "source": []
  }
 ],
 "metadata": {
  "kernelspec": {
   "display_name": "Python 3",
   "language": "python",
   "name": "python3"
  },
  "language_info": {
   "codemirror_mode": {
    "name": "ipython",
    "version": 3
   },
   "file_extension": ".py",
   "mimetype": "text/x-python",
   "name": "python",
   "nbconvert_exporter": "python",
   "pygments_lexer": "ipython3",
   "version": "3.11.3"
  },
  "orig_nbformat": 4
 },
 "nbformat": 4,
 "nbformat_minor": 2
}
